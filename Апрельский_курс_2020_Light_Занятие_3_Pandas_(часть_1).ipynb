{
  "nbformat": 4,
  "nbformat_minor": 0,
  "metadata": {
    "kernelspec": {
      "display_name": "Python 3",
      "language": "python",
      "name": "python3"
    },
    "language_info": {
      "codemirror_mode": {
        "name": "ipython",
        "version": 3
      },
      "file_extension": ".py",
      "mimetype": "text/x-python",
      "name": "python",
      "nbconvert_exporter": "python",
      "pygments_lexer": "ipython3",
      "version": "3.7.3"
    },
    "colab": {
      "name": "Copy of Апрельский курс-2020 Light. Занятие 3. Pandas (часть 1)",
      "provenance": [],
      "collapsed_sections": [],
      "toc_visible": true,
      "include_colab_link": true
    }
  },
  "cells": [
    {
      "cell_type": "markdown",
      "metadata": {
        "id": "view-in-github",
        "colab_type": "text"
      },
      "source": [
        "<a href=\"https://colab.research.google.com/github/Justmove08/Python-Lessons/blob/master/%D0%90%D0%BF%D1%80%D0%B5%D0%BB%D1%8C%D1%81%D0%BA%D0%B8%D0%B9_%D0%BA%D1%83%D1%80%D1%81_2020_Light_%D0%97%D0%B0%D0%BD%D1%8F%D1%82%D0%B8%D0%B5_3_Pandas_(%D1%87%D0%B0%D1%81%D1%82%D1%8C_1).ipynb\" target=\"_parent\"><img src=\"https://colab.research.google.com/assets/colab-badge.svg\" alt=\"Open In Colab\"/></a>"
      ]
    },
    {
      "cell_type": "markdown",
      "metadata": {
        "id": "ojlhGzdxhkwR",
        "colab_type": "text"
      },
      "source": [
        "## Pandas. Загрузка библиотек\n",
        "\n",
        "*Разбор данного раздела:* https://youtu.be/VNOMMiFjJ7E?t=541\n",
        "\n",
        " -  <a href=\"http://pandas.pydata.org/\">Pandas</a> - библиотека для обработки и анализа данных. Предназначена для данных разной природы - матричных, панельных данных, временных рядов. Претендует на звание самого мощного и гибкого средства для анализа данных с открытым исходным кодом."
      ]
    },
    {
      "cell_type": "code",
      "metadata": {
        "id": "DqYWosnHhkwU",
        "colab_type": "code",
        "colab": {}
      },
      "source": [
        "import pandas as pd # Загружаем модуль pandas"
      ],
      "execution_count": 0,
      "outputs": []
    },
    {
      "cell_type": "markdown",
      "metadata": {
        "id": "ZNKpaic1hkwb",
        "colab_type": "text"
      },
      "source": [
        "В пандас есть две структуры данных:\n",
        "- Series: одномерный массив с именованными индексами (чаще всего, данные одного типа)\n",
        "- DataFrame: двухмерный массив, имеет табличную структуру, легко изменяется по размерам, может содержать в себе данные разных типов\n",
        "\n",
        "Оба типа можно создавать вручную с помощью функций из самой библиотеки:\n",
        "- pandas.Series(data=None, index=None, dtype=None)\n",
        "- pandas.DataFrame(data=None, index=None, columns=None, dtype=None)\n",
        "\n",
        "- **data** - данные, которые надо записать в структуру\n",
        "- **index** - индексы строк\n",
        "- **columns** - названия столбцов\n",
        "- **dtype** - тип данных\n",
        "\n",
        "Кроме data, остальные параметры опциональны\n"
      ]
    },
    {
      "cell_type": "markdown",
      "metadata": {
        "id": "tMHOWBBWhkwf",
        "colab_type": "text"
      },
      "source": [
        "Мы, конечно, можем сами создавать датафреймы!\n",
        "\n",
        "Например, кто-то нашел нам кусок данных и просит воспроизвести этот датасет:\n",
        "\n",
        "<img src=\"https://i.imgur.com/FUCGiKP.png\">\n",
        "\n",
        "Давайте разберемся, что здесь, что и запишем в известную нам конструкцию - листы. "
      ]
    },
    {
      "cell_type": "code",
      "metadata": {
        "id": "9yW-A-fRhkwi",
        "colab_type": "code",
        "colab": {}
      },
      "source": [
        "columns = ['country', 'province', 'region_1', 'region_2'] # Создаем список, в котором будут храниться названия столбцов\n",
        "index = [0, 1, 10, 100] # Создаем список, в котором будут индексы строк\n",
        "\n",
        "# Создаем список с данными, каждая строка таблицы - отдельный список\n",
        "data = [['Italy', 'Sicily & Sardinia', 'Etna', 'NaN'], \n",
        "        ['Portugal', 'Douro', 'NaN', 'NaN'],\n",
        "       ['US', 'California', 'Napa Valley', 'Napa'],\n",
        "       ['US', 'New York', 'Finger Lakes', 'Finger Lakes']]"
      ],
      "execution_count": 0,
      "outputs": []
    },
    {
      "cell_type": "markdown",
      "metadata": {
        "id": "6jUo7y0uhkwo",
        "colab_type": "text"
      },
      "source": [
        "А теперь соберем в датафрейм"
      ]
    },
    {
      "cell_type": "code",
      "metadata": {
        "scrolled": true,
        "id": "jMEdfOOdhkwp",
        "colab_type": "code",
        "outputId": "5ffc4882-8012-4348-95b3-b05c6eb042e8",
        "colab": {
          "base_uri": "https://localhost:8080/",
          "height": 166
        }
      },
      "source": [
        "df = pd.DataFrame(data, columns = columns, index = index) # Создаем ДатаФрейм (в качестве параметров передаем называние столбцов, индексы и сами данные)\n",
        "df # Отображаем наш ДатаФрейм (лучше без использования функции print())"
      ],
      "execution_count": 0,
      "outputs": [
        {
          "output_type": "execute_result",
          "data": {
            "text/html": [
              "<div>\n",
              "<style scoped>\n",
              "    .dataframe tbody tr th:only-of-type {\n",
              "        vertical-align: middle;\n",
              "    }\n",
              "\n",
              "    .dataframe tbody tr th {\n",
              "        vertical-align: top;\n",
              "    }\n",
              "\n",
              "    .dataframe thead th {\n",
              "        text-align: right;\n",
              "    }\n",
              "</style>\n",
              "<table border=\"1\" class=\"dataframe\">\n",
              "  <thead>\n",
              "    <tr style=\"text-align: right;\">\n",
              "      <th></th>\n",
              "      <th>0</th>\n",
              "      <th>1</th>\n",
              "      <th>2</th>\n",
              "      <th>3</th>\n",
              "    </tr>\n",
              "  </thead>\n",
              "  <tbody>\n",
              "    <tr>\n",
              "      <th>0</th>\n",
              "      <td>Italy</td>\n",
              "      <td>Sicily &amp; Sardinia</td>\n",
              "      <td>Etna</td>\n",
              "      <td>NaN</td>\n",
              "    </tr>\n",
              "    <tr>\n",
              "      <th>1</th>\n",
              "      <td>Portugal</td>\n",
              "      <td>Douro</td>\n",
              "      <td>NaN</td>\n",
              "      <td>NaN</td>\n",
              "    </tr>\n",
              "    <tr>\n",
              "      <th>2</th>\n",
              "      <td>US</td>\n",
              "      <td>California</td>\n",
              "      <td>Napa Valley</td>\n",
              "      <td>Napa</td>\n",
              "    </tr>\n",
              "    <tr>\n",
              "      <th>3</th>\n",
              "      <td>US</td>\n",
              "      <td>New York</td>\n",
              "      <td>Finger Lakes</td>\n",
              "      <td>Finger Lakes</td>\n",
              "    </tr>\n",
              "  </tbody>\n",
              "</table>\n",
              "</div>"
            ],
            "text/plain": [
              "          0                  1             2             3\n",
              "0     Italy  Sicily & Sardinia          Etna           NaN\n",
              "1  Portugal              Douro           NaN           NaN\n",
              "2        US         California   Napa Valley          Napa\n",
              "3        US           New York  Finger Lakes  Finger Lakes"
            ]
          },
          "metadata": {
            "tags": []
          },
          "execution_count": 35
        }
      ]
    },
    {
      "cell_type": "markdown",
      "metadata": {
        "id": "TIJhU5vEhkwv",
        "colab_type": "text"
      },
      "source": [
        "### Загрузка и запись данных\n",
        "\n",
        "*Разбор данного раздела:* https://youtu.be/VNOMMiFjJ7E?t=1087\n",
        "\n",
        "Правда в том, что мы не будем так жестоко к себе и вручную вбивать данные не будем. А будем загружать из файла. \n",
        "\n",
        "\n",
        "- Функции типа **pd.read_формат** и **pd.to_формат**\n",
        "считывают и записывают данные соответственно. <br /> Полный список можно найти в документации:\n",
        "https://pandas.pydata.org/pandas-docs/stable/user_guide/io.html\n",
        "\n",
        "Научимся считывать данные в формате csv (comma separated value) функцией:\n",
        "\n",
        "- <a href=\"http://pandas.pydata.org/pandas-docs/stable/generated/pandas.read_csv.html#pandas.read_csv\"> pd.read_csv()</a>: \n",
        "\n",
        "Аргументов у нее очень много, критически важные:\n",
        " - **filepath_or_buffer** - текстовая строка с названием (адресом) файла\n",
        " - **sep** - разделитель между данными\n",
        " - **header** - номер строки, в которой в файле указаны названия столбцов, None, если нет\n",
        " - **names** - список с названиями колонок\n",
        " - **index_col** - или номер столбца, или список,  или ничего - колонка, из которой надо взять названия строк\n"
      ]
    },
    {
      "cell_type": "code",
      "metadata": {
        "id": "mWdKBTMNhkwx",
        "colab_type": "code",
        "colab": {}
      },
      "source": [
        "data = pd.read_csv('wine_base.csv') # С помощью метода read_csv загружаем файл wine_base.csv и записываем данные в data"
      ],
      "execution_count": 0,
      "outputs": []
    },
    {
      "cell_type": "markdown",
      "metadata": {
        "id": "g8zunGkmhkw2",
        "colab_type": "text"
      },
      "source": [
        "### Смотрим, что загрузилось\n",
        "\n",
        "*Разбор данного раздела:* https://youtu.be/VNOMMiFjJ7E?t=1231"
      ]
    },
    {
      "cell_type": "code",
      "metadata": {
        "id": "slhGLHJNhkw4",
        "colab_type": "code",
        "outputId": "847aa5c0-0c00-4d03-9ba0-df2884c8aaf2",
        "colab": {
          "base_uri": "https://localhost:8080/",
          "height": 296
        }
      },
      "source": [
        "data.head() # С помощью метода head выводим первые 5 строк нашего ДатаФрейма"
      ],
      "execution_count": 0,
      "outputs": [
        {
          "output_type": "execute_result",
          "data": {
            "text/html": [
              "<div>\n",
              "<style scoped>\n",
              "    .dataframe tbody tr th:only-of-type {\n",
              "        vertical-align: middle;\n",
              "    }\n",
              "\n",
              "    .dataframe tbody tr th {\n",
              "        vertical-align: top;\n",
              "    }\n",
              "\n",
              "    .dataframe thead th {\n",
              "        text-align: right;\n",
              "    }\n",
              "</style>\n",
              "<table border=\"1\" class=\"dataframe\">\n",
              "  <thead>\n",
              "    <tr style=\"text-align: right;\">\n",
              "      <th></th>\n",
              "      <th>Unnamed: 0</th>\n",
              "      <th>country</th>\n",
              "      <th>description</th>\n",
              "      <th>designation</th>\n",
              "      <th>points</th>\n",
              "      <th>price</th>\n",
              "      <th>province</th>\n",
              "      <th>region_1</th>\n",
              "      <th>region_2</th>\n",
              "      <th>variety</th>\n",
              "      <th>winery</th>\n",
              "    </tr>\n",
              "  </thead>\n",
              "  <tbody>\n",
              "    <tr>\n",
              "      <th>0</th>\n",
              "      <td>0</td>\n",
              "      <td>US</td>\n",
              "      <td>This tremendous 100% varietal wine hails from ...</td>\n",
              "      <td>Martha's Vineyard</td>\n",
              "      <td>96</td>\n",
              "      <td>235.0</td>\n",
              "      <td>California</td>\n",
              "      <td>Napa Valley</td>\n",
              "      <td>Napa</td>\n",
              "      <td>Cabernet Sauvignon</td>\n",
              "      <td>Heitz</td>\n",
              "    </tr>\n",
              "    <tr>\n",
              "      <th>1</th>\n",
              "      <td>1</td>\n",
              "      <td>Spain</td>\n",
              "      <td>Ripe aromas of fig, blackberry and cassis are ...</td>\n",
              "      <td>Carodorum Selección Especial Reserva</td>\n",
              "      <td>96</td>\n",
              "      <td>110.0</td>\n",
              "      <td>Northern Spain</td>\n",
              "      <td>Toro</td>\n",
              "      <td>NaN</td>\n",
              "      <td>Tinta de Toro</td>\n",
              "      <td>Bodega Carmen Rodríguez</td>\n",
              "    </tr>\n",
              "    <tr>\n",
              "      <th>2</th>\n",
              "      <td>2</td>\n",
              "      <td>US</td>\n",
              "      <td>Mac Watson honors the memory of a wine once ma...</td>\n",
              "      <td>Special Selected Late Harvest</td>\n",
              "      <td>96</td>\n",
              "      <td>90.0</td>\n",
              "      <td>California</td>\n",
              "      <td>Knights Valley</td>\n",
              "      <td>Sonoma</td>\n",
              "      <td>Sauvignon Blanc</td>\n",
              "      <td>Macauley</td>\n",
              "    </tr>\n",
              "    <tr>\n",
              "      <th>3</th>\n",
              "      <td>3</td>\n",
              "      <td>US</td>\n",
              "      <td>This spent 20 months in 30% new French oak, an...</td>\n",
              "      <td>Reserve</td>\n",
              "      <td>96</td>\n",
              "      <td>65.0</td>\n",
              "      <td>Oregon</td>\n",
              "      <td>Willamette Valley</td>\n",
              "      <td>Willamette Valley</td>\n",
              "      <td>Pinot Noir</td>\n",
              "      <td>Ponzi</td>\n",
              "    </tr>\n",
              "    <tr>\n",
              "      <th>4</th>\n",
              "      <td>4</td>\n",
              "      <td>France</td>\n",
              "      <td>This is the top wine from La Bégude, named aft...</td>\n",
              "      <td>La Brûlade</td>\n",
              "      <td>95</td>\n",
              "      <td>66.0</td>\n",
              "      <td>Provence</td>\n",
              "      <td>Bandol</td>\n",
              "      <td>NaN</td>\n",
              "      <td>Provence red blend</td>\n",
              "      <td>Domaine de la Bégude</td>\n",
              "    </tr>\n",
              "  </tbody>\n",
              "</table>\n",
              "</div>"
            ],
            "text/plain": [
              "   Unnamed: 0 country  ...             variety                   winery\n",
              "0           0      US  ...  Cabernet Sauvignon                    Heitz\n",
              "1           1   Spain  ...       Tinta de Toro  Bodega Carmen Rodríguez\n",
              "2           2      US  ...     Sauvignon Blanc                 Macauley\n",
              "3           3      US  ...          Pinot Noir                    Ponzi\n",
              "4           4  France  ...  Provence red blend     Domaine de la Bégude\n",
              "\n",
              "[5 rows x 11 columns]"
            ]
          },
          "metadata": {
            "tags": []
          },
          "execution_count": 38
        }
      ]
    },
    {
      "cell_type": "markdown",
      "metadata": {
        "id": "TAEcUwXohkw9",
        "colab_type": "text"
      },
      "source": [
        "Что-то не то с первым столбцом, немного поправим"
      ]
    },
    {
      "cell_type": "code",
      "metadata": {
        "id": "gQv-i3Lt1nlr",
        "colab_type": "code",
        "outputId": "25943be8-70b7-476e-c5b3-e5fb98516124",
        "colab": {
          "base_uri": "https://localhost:8080/",
          "height": 121
        }
      },
      "source": [
        "from google.colab import drive\n",
        "drive.mount('/content/drive')"
      ],
      "execution_count": 0,
      "outputs": [
        {
          "output_type": "stream",
          "text": [
            "Go to this URL in a browser: https://accounts.google.com/o/oauth2/auth?client_id=947318989803-6bn6qk8qdgf4n4g3pfee6491hc0brc4i.apps.googleusercontent.com&redirect_uri=urn%3aietf%3awg%3aoauth%3a2.0%3aoob&response_type=code&scope=email%20https%3a%2f%2fwww.googleapis.com%2fauth%2fdocs.test%20https%3a%2f%2fwww.googleapis.com%2fauth%2fdrive%20https%3a%2f%2fwww.googleapis.com%2fauth%2fdrive.photos.readonly%20https%3a%2f%2fwww.googleapis.com%2fauth%2fpeopleapi.readonly\n",
            "\n",
            "Enter your authorization code:\n",
            "··········\n",
            "Mounted at /content/drive\n"
          ],
          "name": "stdout"
        }
      ]
    },
    {
      "cell_type": "code",
      "metadata": {
        "id": "UQ_ne0wIhkw-",
        "colab_type": "code",
        "colab": {}
      },
      "source": [
        "data = pd.read_csv('wine_base.csv', index_col = 0) # В параметре index_col указываем столбец, который будет использоваться как индекс нашего датафрейма"
      ],
      "execution_count": 0,
      "outputs": []
    },
    {
      "cell_type": "code",
      "metadata": {
        "scrolled": true,
        "id": "u5iBpJ0jhkxC",
        "colab_type": "code",
        "colab": {}
      },
      "source": [
        "data.head(20) # С помощью метода head выводим первые 20 строк нашего ДатаФрейма"
      ],
      "execution_count": 0,
      "outputs": []
    },
    {
      "cell_type": "markdown",
      "metadata": {
        "id": "UnU4xLLzhkxG",
        "colab_type": "text"
      },
      "source": [
        "### Смотрим, что загрузилось:\n",
        "\n",
        "- Посчитаем, сколько записей\n",
        "- Посмотрим, какого типа данные\n",
        "- Проверим, есть ли пропуски"
      ]
    },
    {
      "cell_type": "code",
      "metadata": {
        "id": "Z-MKWiELhkxP",
        "colab_type": "code",
        "outputId": "98451bbb-28e0-49d7-c7bf-9ce6a5f3e52e",
        "colab": {
          "base_uri": "https://localhost:8080/",
          "height": 34
        }
      },
      "source": [
        "data.shape # Параметр .shape (так же как и в numpy-массивах) показывает размерность нашего датафрейма"
      ],
      "execution_count": 0,
      "outputs": [
        {
          "output_type": "execute_result",
          "data": {
            "text/plain": [
              "(150930, 10)"
            ]
          },
          "metadata": {
            "tags": []
          },
          "execution_count": 47
        }
      ]
    },
    {
      "cell_type": "code",
      "metadata": {
        "id": "SEr52zb4hkxT",
        "colab_type": "code",
        "outputId": "c7aacdd4-02c1-40cc-b6b6-f5f399a10785",
        "colab": {
          "base_uri": "https://localhost:8080/",
          "height": 34
        }
      },
      "source": [
        "data.size # Параметр .size (так же как и в numpy-массивах) показывает количество элементов в нашем датафрейме"
      ],
      "execution_count": 0,
      "outputs": [
        {
          "output_type": "execute_result",
          "data": {
            "text/plain": [
              "1509300"
            ]
          },
          "metadata": {
            "tags": []
          },
          "execution_count": 48
        }
      ]
    },
    {
      "cell_type": "code",
      "metadata": {
        "scrolled": true,
        "id": "sw8ATDX1hkxJ",
        "colab_type": "code",
        "outputId": "fee45592-7a66-4c5f-8950-2440ba7c5e04",
        "colab": {
          "base_uri": "https://localhost:8080/",
          "height": 202
        }
      },
      "source": [
        "data.count() # Метод count считает сколько всего непустых записей в каждом столбце"
      ],
      "execution_count": 0,
      "outputs": [
        {
          "output_type": "execute_result",
          "data": {
            "text/plain": [
              "country        150925\n",
              "description    150930\n",
              "designation    105195\n",
              "points         150930\n",
              "price          137235\n",
              "province       150925\n",
              "region_1       125870\n",
              "region_2        60953\n",
              "variety        150930\n",
              "winery         150930\n",
              "dtype: int64"
            ]
          },
          "metadata": {
            "tags": []
          },
          "execution_count": 49
        }
      ]
    },
    {
      "cell_type": "code",
      "metadata": {
        "id": "OwVkE1MKX6mW",
        "colab_type": "code",
        "outputId": "4a04dde1-9d3b-4c4d-aa06-83c1f6dd9275",
        "colab": {
          "base_uri": "https://localhost:8080/",
          "height": 202
        }
      },
      "source": [
        "data.head(100).count() # Применим метод .count() к первым ста записям нашего датафрейма"
      ],
      "execution_count": 0,
      "outputs": [
        {
          "output_type": "execute_result",
          "data": {
            "text/plain": [
              "country        100\n",
              "description    100\n",
              "designation     84\n",
              "points         100\n",
              "price           96\n",
              "province       100\n",
              "region_1        92\n",
              "region_2        43\n",
              "variety        100\n",
              "winery         100\n",
              "dtype: int64"
            ]
          },
          "metadata": {
            "tags": []
          },
          "execution_count": 51
        }
      ]
    },
    {
      "cell_type": "markdown",
      "metadata": {
        "id": "5AjpVmYFhkxX",
        "colab_type": "text"
      },
      "source": [
        "- Метод info() заодно показывает, какого типа данные в столбцах"
      ]
    },
    {
      "cell_type": "code",
      "metadata": {
        "id": "G8RHx3kvhkxZ",
        "colab_type": "code",
        "outputId": "b5dab7e2-5ae5-4f71-e427-95bd90db47fa",
        "colab": {
          "base_uri": "https://localhost:8080/",
          "height": 302
        }
      },
      "source": [
        "data.info() # Метод .info() показывает тип каждого столбца и занимаемую память"
      ],
      "execution_count": 0,
      "outputs": [
        {
          "output_type": "stream",
          "text": [
            "<class 'pandas.core.frame.DataFrame'>\n",
            "Int64Index: 150930 entries, 0 to 150929\n",
            "Data columns (total 10 columns):\n",
            " #   Column       Non-Null Count   Dtype  \n",
            "---  ------       --------------   -----  \n",
            " 0   country      150925 non-null  object \n",
            " 1   description  150930 non-null  object \n",
            " 2   designation  105195 non-null  object \n",
            " 3   points       150930 non-null  object \n",
            " 4   price        137235 non-null  float64\n",
            " 5   province     150925 non-null  object \n",
            " 6   region_1     125870 non-null  object \n",
            " 7   region_2     60953 non-null   object \n",
            " 8   variety      150930 non-null  object \n",
            " 9   winery       150930 non-null  object \n",
            "dtypes: float64(1), object(9)\n",
            "memory usage: 12.7+ MB\n"
          ],
          "name": "stdout"
        }
      ]
    },
    {
      "cell_type": "code",
      "metadata": {
        "id": "cMRzYwQdhkxd",
        "colab_type": "code",
        "outputId": "e2642c40-db5b-4d04-8454-2da58397695e",
        "colab": {
          "base_uri": "https://localhost:8080/",
          "height": 202
        }
      },
      "source": [
        "data.dtypes # Параметр .dtypes показывает просто тип каждого столбца"
      ],
      "execution_count": 0,
      "outputs": [
        {
          "output_type": "execute_result",
          "data": {
            "text/plain": [
              "country         object\n",
              "description     object\n",
              "designation     object\n",
              "points          object\n",
              "price          float64\n",
              "province        object\n",
              "region_1        object\n",
              "region_2        object\n",
              "variety         object\n",
              "winery          object\n",
              "dtype: object"
            ]
          },
          "metadata": {
            "tags": []
          },
          "execution_count": 58
        }
      ]
    },
    {
      "cell_type": "markdown",
      "metadata": {
        "id": "S3TniwKUhkxh",
        "colab_type": "text"
      },
      "source": [
        "Начнем проверять на пропуски! \n",
        "\n",
        "- .isnull() - выдает табличку, где False - ячейка заполнена, True - ячейка пуста :( Ближайшая родня - isna()"
      ]
    },
    {
      "cell_type": "code",
      "metadata": {
        "id": "uq1iywLbYsxS",
        "colab_type": "code",
        "outputId": "8c885017-11c3-4f08-bb76-79cb199ac28b",
        "colab": {
          "base_uri": "https://localhost:8080/",
          "height": 279
        }
      },
      "source": [
        "data.head() # Отобразим первые 5 строк нашего датафрейма"
      ],
      "execution_count": 0,
      "outputs": [
        {
          "output_type": "execute_result",
          "data": {
            "text/html": [
              "<div>\n",
              "<style scoped>\n",
              "    .dataframe tbody tr th:only-of-type {\n",
              "        vertical-align: middle;\n",
              "    }\n",
              "\n",
              "    .dataframe tbody tr th {\n",
              "        vertical-align: top;\n",
              "    }\n",
              "\n",
              "    .dataframe thead th {\n",
              "        text-align: right;\n",
              "    }\n",
              "</style>\n",
              "<table border=\"1\" class=\"dataframe\">\n",
              "  <thead>\n",
              "    <tr style=\"text-align: right;\">\n",
              "      <th></th>\n",
              "      <th>country</th>\n",
              "      <th>description</th>\n",
              "      <th>designation</th>\n",
              "      <th>points</th>\n",
              "      <th>price</th>\n",
              "      <th>province</th>\n",
              "      <th>region_1</th>\n",
              "      <th>region_2</th>\n",
              "      <th>variety</th>\n",
              "      <th>winery</th>\n",
              "    </tr>\n",
              "  </thead>\n",
              "  <tbody>\n",
              "    <tr>\n",
              "      <th>0</th>\n",
              "      <td>US</td>\n",
              "      <td>This tremendous 100% varietal wine hails from ...</td>\n",
              "      <td>Martha's Vineyard</td>\n",
              "      <td>96</td>\n",
              "      <td>235.0</td>\n",
              "      <td>California</td>\n",
              "      <td>Napa Valley</td>\n",
              "      <td>Napa</td>\n",
              "      <td>Cabernet Sauvignon</td>\n",
              "      <td>Heitz</td>\n",
              "    </tr>\n",
              "    <tr>\n",
              "      <th>1</th>\n",
              "      <td>Spain</td>\n",
              "      <td>Ripe aromas of fig, blackberry and cassis are ...</td>\n",
              "      <td>Carodorum Selección Especial Reserva</td>\n",
              "      <td>96</td>\n",
              "      <td>110.0</td>\n",
              "      <td>Northern Spain</td>\n",
              "      <td>Toro</td>\n",
              "      <td>NaN</td>\n",
              "      <td>Tinta de Toro</td>\n",
              "      <td>Bodega Carmen Rodríguez</td>\n",
              "    </tr>\n",
              "    <tr>\n",
              "      <th>2</th>\n",
              "      <td>US</td>\n",
              "      <td>Mac Watson honors the memory of a wine once ma...</td>\n",
              "      <td>Special Selected Late Harvest</td>\n",
              "      <td>96</td>\n",
              "      <td>90.0</td>\n",
              "      <td>California</td>\n",
              "      <td>Knights Valley</td>\n",
              "      <td>Sonoma</td>\n",
              "      <td>Sauvignon Blanc</td>\n",
              "      <td>Macauley</td>\n",
              "    </tr>\n",
              "    <tr>\n",
              "      <th>3</th>\n",
              "      <td>US</td>\n",
              "      <td>This spent 20 months in 30% new French oak, an...</td>\n",
              "      <td>Reserve</td>\n",
              "      <td>96</td>\n",
              "      <td>65.0</td>\n",
              "      <td>Oregon</td>\n",
              "      <td>Willamette Valley</td>\n",
              "      <td>Willamette Valley</td>\n",
              "      <td>Pinot Noir</td>\n",
              "      <td>Ponzi</td>\n",
              "    </tr>\n",
              "    <tr>\n",
              "      <th>4</th>\n",
              "      <td>France</td>\n",
              "      <td>This is the top wine from La Bégude, named aft...</td>\n",
              "      <td>La Brûlade</td>\n",
              "      <td>95</td>\n",
              "      <td>66.0</td>\n",
              "      <td>Provence</td>\n",
              "      <td>Bandol</td>\n",
              "      <td>NaN</td>\n",
              "      <td>Provence red blend</td>\n",
              "      <td>Domaine de la Bégude</td>\n",
              "    </tr>\n",
              "  </tbody>\n",
              "</table>\n",
              "</div>"
            ],
            "text/plain": [
              "  country  ...                   winery\n",
              "0      US  ...                    Heitz\n",
              "1   Spain  ...  Bodega Carmen Rodríguez\n",
              "2      US  ...                 Macauley\n",
              "3      US  ...                    Ponzi\n",
              "4  France  ...     Domaine de la Bégude\n",
              "\n",
              "[5 rows x 10 columns]"
            ]
          },
          "metadata": {
            "tags": []
          },
          "execution_count": 60
        }
      ]
    },
    {
      "cell_type": "code",
      "metadata": {
        "id": "_oxBR6lAzfgu",
        "colab_type": "code",
        "outputId": "89dfd4c3-f58a-41b0-ae30-e9091b1974a5",
        "colab": {
          "base_uri": "https://localhost:8080/",
          "height": 195
        }
      },
      "source": [
        "data.isna().head() # Метод .isna() вместо каждого значения подставит True (значение NaN) или False (действительное значение)"
      ],
      "execution_count": 0,
      "outputs": [
        {
          "output_type": "execute_result",
          "data": {
            "text/html": [
              "<div>\n",
              "<style scoped>\n",
              "    .dataframe tbody tr th:only-of-type {\n",
              "        vertical-align: middle;\n",
              "    }\n",
              "\n",
              "    .dataframe tbody tr th {\n",
              "        vertical-align: top;\n",
              "    }\n",
              "\n",
              "    .dataframe thead th {\n",
              "        text-align: right;\n",
              "    }\n",
              "</style>\n",
              "<table border=\"1\" class=\"dataframe\">\n",
              "  <thead>\n",
              "    <tr style=\"text-align: right;\">\n",
              "      <th></th>\n",
              "      <th>country</th>\n",
              "      <th>description</th>\n",
              "      <th>designation</th>\n",
              "      <th>points</th>\n",
              "      <th>price</th>\n",
              "      <th>province</th>\n",
              "      <th>region_1</th>\n",
              "      <th>region_2</th>\n",
              "      <th>variety</th>\n",
              "      <th>winery</th>\n",
              "    </tr>\n",
              "  </thead>\n",
              "  <tbody>\n",
              "    <tr>\n",
              "      <th>0</th>\n",
              "      <td>False</td>\n",
              "      <td>False</td>\n",
              "      <td>False</td>\n",
              "      <td>False</td>\n",
              "      <td>False</td>\n",
              "      <td>False</td>\n",
              "      <td>False</td>\n",
              "      <td>False</td>\n",
              "      <td>False</td>\n",
              "      <td>False</td>\n",
              "    </tr>\n",
              "    <tr>\n",
              "      <th>1</th>\n",
              "      <td>False</td>\n",
              "      <td>False</td>\n",
              "      <td>False</td>\n",
              "      <td>False</td>\n",
              "      <td>False</td>\n",
              "      <td>False</td>\n",
              "      <td>False</td>\n",
              "      <td>True</td>\n",
              "      <td>False</td>\n",
              "      <td>False</td>\n",
              "    </tr>\n",
              "    <tr>\n",
              "      <th>2</th>\n",
              "      <td>False</td>\n",
              "      <td>False</td>\n",
              "      <td>False</td>\n",
              "      <td>False</td>\n",
              "      <td>False</td>\n",
              "      <td>False</td>\n",
              "      <td>False</td>\n",
              "      <td>False</td>\n",
              "      <td>False</td>\n",
              "      <td>False</td>\n",
              "    </tr>\n",
              "    <tr>\n",
              "      <th>3</th>\n",
              "      <td>False</td>\n",
              "      <td>False</td>\n",
              "      <td>False</td>\n",
              "      <td>False</td>\n",
              "      <td>False</td>\n",
              "      <td>False</td>\n",
              "      <td>False</td>\n",
              "      <td>False</td>\n",
              "      <td>False</td>\n",
              "      <td>False</td>\n",
              "    </tr>\n",
              "    <tr>\n",
              "      <th>4</th>\n",
              "      <td>False</td>\n",
              "      <td>False</td>\n",
              "      <td>False</td>\n",
              "      <td>False</td>\n",
              "      <td>False</td>\n",
              "      <td>False</td>\n",
              "      <td>False</td>\n",
              "      <td>True</td>\n",
              "      <td>False</td>\n",
              "      <td>False</td>\n",
              "    </tr>\n",
              "  </tbody>\n",
              "</table>\n",
              "</div>"
            ],
            "text/plain": [
              "   country  description  designation  ...  region_2  variety  winery\n",
              "0    False        False        False  ...     False    False   False\n",
              "1    False        False        False  ...      True    False   False\n",
              "2    False        False        False  ...     False    False   False\n",
              "3    False        False        False  ...     False    False   False\n",
              "4    False        False        False  ...      True    False   False\n",
              "\n",
              "[5 rows x 10 columns]"
            ]
          },
          "metadata": {
            "tags": []
          },
          "execution_count": 61
        }
      ]
    },
    {
      "cell_type": "code",
      "metadata": {
        "id": "ZjTn7cM5zyta",
        "colab_type": "code",
        "outputId": "ea8ab33c-d54b-4998-bcfb-b40883b85bbd",
        "colab": {
          "base_uri": "https://localhost:8080/",
          "height": 202
        }
      },
      "source": [
        "data.isna().sum() # Подсчитаем количество пропусков в каждом столбце с помощью метода .sum()"
      ],
      "execution_count": 0,
      "outputs": [
        {
          "output_type": "execute_result",
          "data": {
            "text/plain": [
              "country            5\n",
              "description        0\n",
              "designation    45735\n",
              "points             0\n",
              "price          13695\n",
              "province           5\n",
              "region_1       25060\n",
              "region_2       89977\n",
              "variety            0\n",
              "winery             0\n",
              "dtype: int64"
            ]
          },
          "metadata": {
            "tags": []
          },
          "execution_count": 62
        }
      ]
    },
    {
      "cell_type": "code",
      "metadata": {
        "id": "D7aHOhOGY5pe",
        "colab_type": "code",
        "outputId": "6bb048f7-4e76-4e4e-81af-7af238821e1d",
        "colab": {
          "base_uri": "https://localhost:8080/",
          "height": 202
        }
      },
      "source": [
        "data.head(100).isna().sum() # Подсчитаем количество пропусков в каждом столбце для первых ста записей"
      ],
      "execution_count": 0,
      "outputs": [
        {
          "output_type": "execute_result",
          "data": {
            "text/plain": [
              "country         0\n",
              "description     0\n",
              "designation    16\n",
              "points          0\n",
              "price           4\n",
              "province        0\n",
              "region_1        8\n",
              "region_2       57\n",
              "variety         0\n",
              "winery          0\n",
              "dtype: int64"
            ]
          },
          "metadata": {
            "tags": []
          },
          "execution_count": 63
        }
      ]
    },
    {
      "cell_type": "code",
      "metadata": {
        "id": "ZaiGPw-KY9eQ",
        "colab_type": "code",
        "outputId": "d38fdfe7-90b5-4975-c739-6e73f5925bf0",
        "colab": {
          "base_uri": "https://localhost:8080/",
          "height": 202
        }
      },
      "source": [
        "data.isna().head(100).sum() # Подсчитаем количество пропусков в каждом столбце для первых ста записей (равнозначно предыдущей записи)"
      ],
      "execution_count": 0,
      "outputs": [
        {
          "output_type": "execute_result",
          "data": {
            "text/plain": [
              "country         0\n",
              "description     0\n",
              "designation    16\n",
              "points          0\n",
              "price           4\n",
              "province        0\n",
              "region_1        8\n",
              "region_2       57\n",
              "variety         0\n",
              "winery          0\n",
              "dtype: int64"
            ]
          },
          "metadata": {
            "tags": []
          },
          "execution_count": 64
        }
      ]
    },
    {
      "cell_type": "code",
      "metadata": {
        "id": "NHeX2czDhkxi",
        "colab_type": "code",
        "outputId": "8d122d0e-0287-4a98-8610-bda6ed3bbacc",
        "colab": {
          "base_uri": "https://localhost:8080/",
          "height": 202
        }
      },
      "source": [
        "round(data.isna().sum() / data.shape[0], 6) # Посчитаем какую часть составляют пропуски от общего количества элементов"
      ],
      "execution_count": 0,
      "outputs": [
        {
          "output_type": "execute_result",
          "data": {
            "text/plain": [
              "country        0.000033\n",
              "description    0.000000\n",
              "designation    0.303021\n",
              "points         0.000000\n",
              "price          0.090737\n",
              "province       0.000033\n",
              "region_1       0.166037\n",
              "region_2       0.596151\n",
              "variety        0.000000\n",
              "winery         0.000000\n",
              "dtype: float64"
            ]
          },
          "metadata": {
            "tags": []
          },
          "execution_count": 66
        }
      ]
    },
    {
      "cell_type": "code",
      "metadata": {
        "id": "tvAQTignhkxo",
        "colab_type": "code",
        "outputId": "89dd0a5d-f4e1-4d23-d927-2e3bb6c4bb58",
        "colab": {
          "base_uri": "https://localhost:8080/",
          "height": 34
        }
      },
      "source": [
        "proc = data.isna().sum().sum() # Подсчитаем сколько всего пропусков (во всех столбцах) в нашем датафрейме\n",
        "print(proc) # Отобразим количество посчитанных пропусков"
      ],
      "execution_count": 0,
      "outputs": [
        {
          "output_type": "stream",
          "text": [
            "174477\n"
          ],
          "name": "stdout"
        }
      ]
    },
    {
      "cell_type": "code",
      "metadata": {
        "id": "EOZz-GAPhkxr",
        "colab_type": "code",
        "outputId": "c0218612-ac53-4c83-838f-8d0442f39057",
        "colab": {
          "base_uri": "https://localhost:8080/",
          "height": 34
        }
      },
      "source": [
        "# Переведем полученное значение в процентное отображение\n",
        "proc = data.isna().sum().sum() / data.size\n",
        "print(round(100*proc,1), '%', sep='')"
      ],
      "execution_count": 0,
      "outputs": [
        {
          "output_type": "stream",
          "text": [
            "11.6%\n"
          ],
          "name": "stdout"
        }
      ]
    },
    {
      "cell_type": "markdown",
      "metadata": {
        "id": "OuW1gRtlhkxz",
        "colab_type": "text"
      },
      "source": [
        "### Как оценить пропуски визуально\n",
        "\n",
        "*Разбор данного раздела:* https://youtu.be/VNOMMiFjJ7E?t=3329"
      ]
    },
    {
      "cell_type": "code",
      "metadata": {
        "id": "ToPE3VkWhkx1",
        "colab_type": "code",
        "outputId": "63587af2-f71a-4a4e-9945-327f37d4e0ce",
        "colab": {
          "base_uri": "https://localhost:8080/",
          "height": 754
        }
      },
      "source": [
        "import matplotlib.pyplot as plt # Загружаем модуль matplotlib.pyplot\n",
        "import seaborn as sns # Загружаем модуль seaborn\n",
        "%matplotlib inline\n",
        "\n",
        "fig, ax = plt.subplots(figsize=(20,12)) # Создаем область под график\n",
        "sns_heatmap = sns.heatmap(data.isnull(), yticklabels=False, cbar=False, cmap='viridis') # Визуализируем прпуски\n",
        "plt.show() # Отображаем график"
      ],
      "execution_count": 0,
      "outputs": [
        {
          "output_type": "stream",
          "text": [
            "/usr/local/lib/python3.6/dist-packages/statsmodels/tools/_testing.py:19: FutureWarning: pandas.util.testing is deprecated. Use the functions in the public API at pandas.testing instead.\n",
            "  import pandas.util.testing as tm\n"
          ],
          "name": "stderr"
        },
        {
          "output_type": "display_data",
          "data": {
            "image/png": "[encoded data removed]",
            "text/plain": [
              "<Figure size 1440x864 with 1 Axes>"
            ]
          },
          "metadata": {
            "tags": [],
            "needs_background": "light"
          }
        }
      ]
    },
    {
      "cell_type": "markdown",
      "metadata": {
        "id": "E8w2yGJ1hkx6",
        "colab_type": "text"
      },
      "source": [
        "Что с ним делать?\n",
        "\n",
        "Выбора не очень много: <br>\n",
        "\n",
        "1) Удалять: \n",
        "- dropna(axis=0, how='any'): axis = 0 - удаляем построчно, axis = 1 выкидываем столбец; how ='any' - выкидываем, если есть хотя бы одна ячейка пустая. how = 'all' - выкидываем, если есть полностью пустая строка или столбец\n",
        "\n",
        "2) Вставлять информацию самим:\n",
        "- fillna() - это отдельное искусство, как заполнять. "
      ]
    },
    {
      "cell_type": "code",
      "metadata": {
        "id": "uZgh1E3nhkx6",
        "colab_type": "code",
        "outputId": "373312bb-27fc-4d8c-c764-b789ead4661c",
        "colab": {
          "base_uri": "https://localhost:8080/",
          "height": 494
        }
      },
      "source": [
        "data.fillna(\"Гость\").head(10) # С помощью метода .fillna() заменяем все пропуски словом Python"
      ],
      "execution_count": 0,
      "outputs": [
        {
          "output_type": "execute_result",
          "data": {
            "text/html": [
              "<div>\n",
              "<style scoped>\n",
              "    .dataframe tbody tr th:only-of-type {\n",
              "        vertical-align: middle;\n",
              "    }\n",
              "\n",
              "    .dataframe tbody tr th {\n",
              "        vertical-align: top;\n",
              "    }\n",
              "\n",
              "    .dataframe thead th {\n",
              "        text-align: right;\n",
              "    }\n",
              "</style>\n",
              "<table border=\"1\" class=\"dataframe\">\n",
              "  <thead>\n",
              "    <tr style=\"text-align: right;\">\n",
              "      <th></th>\n",
              "      <th>country</th>\n",
              "      <th>description</th>\n",
              "      <th>designation</th>\n",
              "      <th>points</th>\n",
              "      <th>price</th>\n",
              "      <th>province</th>\n",
              "      <th>region_1</th>\n",
              "      <th>region_2</th>\n",
              "      <th>variety</th>\n",
              "      <th>winery</th>\n",
              "    </tr>\n",
              "  </thead>\n",
              "  <tbody>\n",
              "    <tr>\n",
              "      <th>0</th>\n",
              "      <td>US</td>\n",
              "      <td>This tremendous 100% varietal wine hails from ...</td>\n",
              "      <td>Martha's Vineyard</td>\n",
              "      <td>96</td>\n",
              "      <td>235</td>\n",
              "      <td>California</td>\n",
              "      <td>Napa Valley</td>\n",
              "      <td>Napa</td>\n",
              "      <td>Cabernet Sauvignon</td>\n",
              "      <td>Heitz</td>\n",
              "    </tr>\n",
              "    <tr>\n",
              "      <th>1</th>\n",
              "      <td>Spain</td>\n",
              "      <td>Ripe aromas of fig, blackberry and cassis are ...</td>\n",
              "      <td>Carodorum Selección Especial Reserva</td>\n",
              "      <td>96</td>\n",
              "      <td>110</td>\n",
              "      <td>Northern Spain</td>\n",
              "      <td>Toro</td>\n",
              "      <td>Гость</td>\n",
              "      <td>Tinta de Toro</td>\n",
              "      <td>Bodega Carmen Rodríguez</td>\n",
              "    </tr>\n",
              "    <tr>\n",
              "      <th>2</th>\n",
              "      <td>US</td>\n",
              "      <td>Mac Watson honors the memory of a wine once ma...</td>\n",
              "      <td>Special Selected Late Harvest</td>\n",
              "      <td>96</td>\n",
              "      <td>90</td>\n",
              "      <td>California</td>\n",
              "      <td>Knights Valley</td>\n",
              "      <td>Sonoma</td>\n",
              "      <td>Sauvignon Blanc</td>\n",
              "      <td>Macauley</td>\n",
              "    </tr>\n",
              "    <tr>\n",
              "      <th>3</th>\n",
              "      <td>US</td>\n",
              "      <td>This spent 20 months in 30% new French oak, an...</td>\n",
              "      <td>Reserve</td>\n",
              "      <td>96</td>\n",
              "      <td>65</td>\n",
              "      <td>Oregon</td>\n",
              "      <td>Willamette Valley</td>\n",
              "      <td>Willamette Valley</td>\n",
              "      <td>Pinot Noir</td>\n",
              "      <td>Ponzi</td>\n",
              "    </tr>\n",
              "    <tr>\n",
              "      <th>4</th>\n",
              "      <td>France</td>\n",
              "      <td>This is the top wine from La Bégude, named aft...</td>\n",
              "      <td>La Brûlade</td>\n",
              "      <td>95</td>\n",
              "      <td>66</td>\n",
              "      <td>Provence</td>\n",
              "      <td>Bandol</td>\n",
              "      <td>Гость</td>\n",
              "      <td>Provence red blend</td>\n",
              "      <td>Domaine de la Bégude</td>\n",
              "    </tr>\n",
              "    <tr>\n",
              "      <th>5</th>\n",
              "      <td>Spain</td>\n",
              "      <td>Deep, dense and pure from the opening bell, th...</td>\n",
              "      <td>Numanthia</td>\n",
              "      <td>95</td>\n",
              "      <td>73</td>\n",
              "      <td>Northern Spain</td>\n",
              "      <td>Toro</td>\n",
              "      <td>Гость</td>\n",
              "      <td>Tinta de Toro</td>\n",
              "      <td>Numanthia</td>\n",
              "    </tr>\n",
              "    <tr>\n",
              "      <th>6</th>\n",
              "      <td>Spain</td>\n",
              "      <td>Slightly gritty black-fruit aromas include a s...</td>\n",
              "      <td>San Román</td>\n",
              "      <td>95</td>\n",
              "      <td>65</td>\n",
              "      <td>Northern Spain</td>\n",
              "      <td>Toro</td>\n",
              "      <td>Гость</td>\n",
              "      <td>Tinta de Toro</td>\n",
              "      <td>Maurodos</td>\n",
              "    </tr>\n",
              "    <tr>\n",
              "      <th>7</th>\n",
              "      <td>Spain</td>\n",
              "      <td>Lush cedary black-fruit aromas are luxe and of...</td>\n",
              "      <td>Carodorum Único Crianza</td>\n",
              "      <td>95</td>\n",
              "      <td>110</td>\n",
              "      <td>Northern Spain</td>\n",
              "      <td>Toro</td>\n",
              "      <td>Гость</td>\n",
              "      <td>Tinta de Toro</td>\n",
              "      <td>Bodega Carmen Rodríguez</td>\n",
              "    </tr>\n",
              "    <tr>\n",
              "      <th>8</th>\n",
              "      <td>US</td>\n",
              "      <td>This re-named vineyard was formerly bottled as...</td>\n",
              "      <td>Silice</td>\n",
              "      <td>95</td>\n",
              "      <td>65</td>\n",
              "      <td>Oregon</td>\n",
              "      <td>Chehalem Mountains</td>\n",
              "      <td>Willamette Valley</td>\n",
              "      <td>Pinot Noir</td>\n",
              "      <td>Bergström</td>\n",
              "    </tr>\n",
              "    <tr>\n",
              "      <th>9</th>\n",
              "      <td>US</td>\n",
              "      <td>The producer sources from two blocks of the vi...</td>\n",
              "      <td>Gap's Crown Vineyard</td>\n",
              "      <td>95</td>\n",
              "      <td>60</td>\n",
              "      <td>California</td>\n",
              "      <td>Sonoma Coast</td>\n",
              "      <td>Sonoma</td>\n",
              "      <td>Pinot Noir</td>\n",
              "      <td>Blue Farm</td>\n",
              "    </tr>\n",
              "  </tbody>\n",
              "</table>\n",
              "</div>"
            ],
            "text/plain": [
              "  country  ...                   winery\n",
              "0      US  ...                    Heitz\n",
              "1   Spain  ...  Bodega Carmen Rodríguez\n",
              "2      US  ...                 Macauley\n",
              "3      US  ...                    Ponzi\n",
              "4  France  ...     Domaine de la Bégude\n",
              "5   Spain  ...                Numanthia\n",
              "6   Spain  ...                 Maurodos\n",
              "7   Spain  ...  Bodega Carmen Rodríguez\n",
              "8      US  ...                Bergström\n",
              "9      US  ...                Blue Farm\n",
              "\n",
              "[10 rows x 10 columns]"
            ]
          },
          "metadata": {
            "tags": []
          },
          "execution_count": 72
        }
      ]
    },
    {
      "cell_type": "markdown",
      "metadata": {
        "id": "mBsHwML6hkyF",
        "colab_type": "text"
      },
      "source": [
        "### Описательные статистики\n",
        "\n",
        "*Разбор данного раздела:* https://youtu.be/VNOMMiFjJ7E?t=3549\n",
        "\n",
        "Теперь посмотрим, а что содержательно у нас есть на руках. \n",
        "\n",
        "Глазами просматривать не будем, а попросим посчитать основные описательные статистики. Причем сразу все.\n",
        "\n",
        "- describe() - метод, который возвращает табличку с описательными статистиками. В таком виде считает все для числовых столбцов"
      ]
    },
    {
      "cell_type": "code",
      "metadata": {
        "scrolled": true,
        "id": "ZWz60or1hkyG",
        "colab_type": "code",
        "outputId": "dfe218c3-a1cd-4267-ca4c-be081511cf05",
        "colab": {
          "base_uri": "https://localhost:8080/",
          "height": 284
        }
      },
      "source": [
        "data.describe() # Отобразим описательные статистики нашего датафрейма (только числовые данные)"
      ],
      "execution_count": 0,
      "outputs": [
        {
          "output_type": "execute_result",
          "data": {
            "text/html": [
              "<div>\n",
              "<style scoped>\n",
              "    .dataframe tbody tr th:only-of-type {\n",
              "        vertical-align: middle;\n",
              "    }\n",
              "\n",
              "    .dataframe tbody tr th {\n",
              "        vertical-align: top;\n",
              "    }\n",
              "\n",
              "    .dataframe thead th {\n",
              "        text-align: right;\n",
              "    }\n",
              "</style>\n",
              "<table border=\"1\" class=\"dataframe\">\n",
              "  <thead>\n",
              "    <tr style=\"text-align: right;\">\n",
              "      <th></th>\n",
              "      <th>points</th>\n",
              "      <th>price</th>\n",
              "    </tr>\n",
              "  </thead>\n",
              "  <tbody>\n",
              "    <tr>\n",
              "      <th>count</th>\n",
              "      <td>150930.000000</td>\n",
              "      <td>137235.000000</td>\n",
              "    </tr>\n",
              "    <tr>\n",
              "      <th>mean</th>\n",
              "      <td>87.888418</td>\n",
              "      <td>33.131482</td>\n",
              "    </tr>\n",
              "    <tr>\n",
              "      <th>std</th>\n",
              "      <td>3.222392</td>\n",
              "      <td>36.322536</td>\n",
              "    </tr>\n",
              "    <tr>\n",
              "      <th>min</th>\n",
              "      <td>80.000000</td>\n",
              "      <td>4.000000</td>\n",
              "    </tr>\n",
              "    <tr>\n",
              "      <th>25%</th>\n",
              "      <td>86.000000</td>\n",
              "      <td>16.000000</td>\n",
              "    </tr>\n",
              "    <tr>\n",
              "      <th>50%</th>\n",
              "      <td>88.000000</td>\n",
              "      <td>24.000000</td>\n",
              "    </tr>\n",
              "    <tr>\n",
              "      <th>75%</th>\n",
              "      <td>90.000000</td>\n",
              "      <td>40.000000</td>\n",
              "    </tr>\n",
              "    <tr>\n",
              "      <th>max</th>\n",
              "      <td>100.000000</td>\n",
              "      <td>2300.000000</td>\n",
              "    </tr>\n",
              "  </tbody>\n",
              "</table>\n",
              "</div>"
            ],
            "text/plain": [
              "              points          price\n",
              "count  150930.000000  137235.000000\n",
              "mean       87.888418      33.131482\n",
              "std         3.222392      36.322536\n",
              "min        80.000000       4.000000\n",
              "25%        86.000000      16.000000\n",
              "50%        88.000000      24.000000\n",
              "75%        90.000000      40.000000\n",
              "max       100.000000    2300.000000"
            ]
          },
          "metadata": {
            "tags": []
          },
          "execution_count": 73
        }
      ]
    },
    {
      "cell_type": "markdown",
      "metadata": {
        "id": "0aeamrWMhkyK",
        "colab_type": "text"
      },
      "source": [
        "Немножко магии, и для нечисловых данные тоже будут свои описательные статистики. "
      ]
    },
    {
      "cell_type": "code",
      "metadata": {
        "scrolled": false,
        "id": "jKTF-2BHhkyK",
        "colab_type": "code",
        "outputId": "efc15ec4-4f44-46d3-9d6f-9af03e43bdbb",
        "colab": {
          "base_uri": "https://localhost:8080/",
          "height": 166
        }
      },
      "source": [
        "data.describe(include=['O']) # # Отобразим описательные статистики нашего датафрейма ('O' - в том числе и строковые)"
      ],
      "execution_count": 0,
      "outputs": [
        {
          "output_type": "execute_result",
          "data": {
            "text/html": [
              "<div>\n",
              "<style scoped>\n",
              "    .dataframe tbody tr th:only-of-type {\n",
              "        vertical-align: middle;\n",
              "    }\n",
              "\n",
              "    .dataframe tbody tr th {\n",
              "        vertical-align: top;\n",
              "    }\n",
              "\n",
              "    .dataframe thead th {\n",
              "        text-align: right;\n",
              "    }\n",
              "</style>\n",
              "<table border=\"1\" class=\"dataframe\">\n",
              "  <thead>\n",
              "    <tr style=\"text-align: right;\">\n",
              "      <th></th>\n",
              "      <th>country</th>\n",
              "      <th>description</th>\n",
              "      <th>designation</th>\n",
              "      <th>province</th>\n",
              "      <th>region_1</th>\n",
              "      <th>region_2</th>\n",
              "      <th>variety</th>\n",
              "      <th>winery</th>\n",
              "    </tr>\n",
              "  </thead>\n",
              "  <tbody>\n",
              "    <tr>\n",
              "      <th>count</th>\n",
              "      <td>150925</td>\n",
              "      <td>150930</td>\n",
              "      <td>105195</td>\n",
              "      <td>150925</td>\n",
              "      <td>125870</td>\n",
              "      <td>60953</td>\n",
              "      <td>150930</td>\n",
              "      <td>150930</td>\n",
              "    </tr>\n",
              "    <tr>\n",
              "      <th>unique</th>\n",
              "      <td>48</td>\n",
              "      <td>97821</td>\n",
              "      <td>30621</td>\n",
              "      <td>455</td>\n",
              "      <td>1236</td>\n",
              "      <td>18</td>\n",
              "      <td>632</td>\n",
              "      <td>14810</td>\n",
              "    </tr>\n",
              "    <tr>\n",
              "      <th>top</th>\n",
              "      <td>US</td>\n",
              "      <td>Powerful in Zinny character, this blend of Dry...</td>\n",
              "      <td>Reserve</td>\n",
              "      <td>California</td>\n",
              "      <td>Napa Valley</td>\n",
              "      <td>Central Coast</td>\n",
              "      <td>Chardonnay</td>\n",
              "      <td>Williams Selyem</td>\n",
              "    </tr>\n",
              "    <tr>\n",
              "      <th>freq</th>\n",
              "      <td>62397</td>\n",
              "      <td>6</td>\n",
              "      <td>2752</td>\n",
              "      <td>44508</td>\n",
              "      <td>6209</td>\n",
              "      <td>13057</td>\n",
              "      <td>14482</td>\n",
              "      <td>374</td>\n",
              "    </tr>\n",
              "  </tbody>\n",
              "</table>\n",
              "</div>"
            ],
            "text/plain": [
              "       country  ...           winery\n",
              "count   150925  ...           150930\n",
              "unique      48  ...            14810\n",
              "top         US  ...  Williams Selyem\n",
              "freq     62397  ...              374\n",
              "\n",
              "[4 rows x 8 columns]"
            ]
          },
          "metadata": {
            "tags": []
          },
          "execution_count": 74
        }
      ]
    },
    {
      "cell_type": "markdown",
      "metadata": {
        "id": "-IbwBRL_hkyO",
        "colab_type": "text"
      },
      "source": [
        "### Срезы данных\n",
        "\n",
        "*Разбор данного раздела:* https://youtu.be/VNOMMiFjJ7E?t=3850\n",
        "\n",
        "Допустим, нам не нужен датасет, а только определенные столбцы или строки или столбцы и строки. \n",
        "\n",
        "\n",
        "Как делать?\n",
        "Помним, что:\n",
        "- у столбцов есть названия\n",
        "- у строк есть названия\n",
        "- если нет названий, то они пронумерованы с нуля\n",
        "\n",
        "Основываясь на этой идее, мы начнем отбирать данные."
      ]
    },
    {
      "cell_type": "code",
      "metadata": {
        "id": "4uT9dn4vhkyO",
        "colab_type": "code",
        "outputId": "2bb9fd19-17e9-4a24-a802-91dfa4d30c58",
        "colab": {
          "base_uri": "https://localhost:8080/",
          "height": 77
        }
      },
      "source": [
        "data.head(1) # Отобразим первую строчку датафрейма"
      ],
      "execution_count": 0,
      "outputs": [
        {
          "output_type": "execute_result",
          "data": {
            "text/html": [
              "<div>\n",
              "<style scoped>\n",
              "    .dataframe tbody tr th:only-of-type {\n",
              "        vertical-align: middle;\n",
              "    }\n",
              "\n",
              "    .dataframe tbody tr th {\n",
              "        vertical-align: top;\n",
              "    }\n",
              "\n",
              "    .dataframe thead th {\n",
              "        text-align: right;\n",
              "    }\n",
              "</style>\n",
              "<table border=\"1\" class=\"dataframe\">\n",
              "  <thead>\n",
              "    <tr style=\"text-align: right;\">\n",
              "      <th></th>\n",
              "      <th>country</th>\n",
              "      <th>description</th>\n",
              "      <th>designation</th>\n",
              "      <th>points</th>\n",
              "      <th>price</th>\n",
              "      <th>province</th>\n",
              "      <th>region_1</th>\n",
              "      <th>region_2</th>\n",
              "      <th>variety</th>\n",
              "      <th>winery</th>\n",
              "    </tr>\n",
              "  </thead>\n",
              "  <tbody>\n",
              "    <tr>\n",
              "      <th>0</th>\n",
              "      <td>US</td>\n",
              "      <td>This tremendous 100% varietal wine hails from ...</td>\n",
              "      <td>Martha's Vineyard</td>\n",
              "      <td>96</td>\n",
              "      <td>235.0</td>\n",
              "      <td>California</td>\n",
              "      <td>Napa Valley</td>\n",
              "      <td>Napa</td>\n",
              "      <td>Cabernet Sauvignon</td>\n",
              "      <td>Heitz</td>\n",
              "    </tr>\n",
              "  </tbody>\n",
              "</table>\n",
              "</div>"
            ],
            "text/plain": [
              "  country  ... winery\n",
              "0      US  ...  Heitz\n",
              "\n",
              "[1 rows x 10 columns]"
            ]
          },
          "metadata": {
            "tags": []
          },
          "execution_count": 75
        }
      ]
    },
    {
      "cell_type": "markdown",
      "metadata": {
        "id": "5b2HPHJwhkyT",
        "colab_type": "text"
      },
      "source": [
        "#### Отбираем по столбцам. Версия 1. "
      ]
    },
    {
      "cell_type": "code",
      "metadata": {
        "id": "ocn9YgmnhkyZ",
        "colab_type": "code",
        "outputId": "42d730eb-cbab-4f78-a8c9-63c0703cd446",
        "colab": {
          "base_uri": "https://localhost:8080/",
          "height": 218
        }
      },
      "source": [
        "array = data['designation'] # Отобразим столбец price\n",
        "array"
      ],
      "execution_count": 0,
      "outputs": [
        {
          "output_type": "execute_result",
          "data": {
            "text/plain": [
              "0                            Martha's Vineyard\n",
              "1         Carodorum Selección Especial Reserva\n",
              "2                Special Selected Late Harvest\n",
              "3                                      Reserve\n",
              "4                                   La Brûlade\n",
              "                          ...                 \n",
              "150925                                     NaN\n",
              "150926                          Cuvée Prestige\n",
              "150927                           Terre di Dora\n",
              "150928                         Grand Brut Rosé\n",
              "150929                                     NaN\n",
              "Name: designation, Length: 150930, dtype: object"
            ]
          },
          "metadata": {
            "tags": []
          },
          "execution_count": 81
        }
      ]
    },
    {
      "cell_type": "code",
      "metadata": {
        "id": "YVzV30CQhkyV",
        "colab_type": "code",
        "outputId": "76713e00-6132-4542-9c76-b0f3077f6199",
        "colab": {
          "base_uri": "https://localhost:8080/",
          "height": 118
        }
      },
      "source": [
        "data.price.head() # Отобразим столбец price (альтернативные вариант)"
      ],
      "execution_count": 0,
      "outputs": [
        {
          "output_type": "execute_result",
          "data": {
            "text/plain": [
              "0    235.0\n",
              "1    110.0\n",
              "2     90.0\n",
              "3     65.0\n",
              "4     66.0\n",
              "Name: price, dtype: float64"
            ]
          },
          "metadata": {
            "tags": []
          },
          "execution_count": 82
        }
      ]
    },
    {
      "cell_type": "code",
      "metadata": {
        "id": "IDhUYDK5hkye",
        "colab_type": "code",
        "outputId": "2026aae5-a6d5-48bd-8ddd-fca3f663b4fd",
        "colab": {
          "base_uri": "https://localhost:8080/",
          "height": 195
        }
      },
      "source": [
        "new_df = data[['price','country']].head() # Отобразим столбцы 'price' и 'country'\n",
        "new_df"
      ],
      "execution_count": 0,
      "outputs": [
        {
          "output_type": "execute_result",
          "data": {
            "text/html": [
              "<div>\n",
              "<style scoped>\n",
              "    .dataframe tbody tr th:only-of-type {\n",
              "        vertical-align: middle;\n",
              "    }\n",
              "\n",
              "    .dataframe tbody tr th {\n",
              "        vertical-align: top;\n",
              "    }\n",
              "\n",
              "    .dataframe thead th {\n",
              "        text-align: right;\n",
              "    }\n",
              "</style>\n",
              "<table border=\"1\" class=\"dataframe\">\n",
              "  <thead>\n",
              "    <tr style=\"text-align: right;\">\n",
              "      <th></th>\n",
              "      <th>price</th>\n",
              "      <th>country</th>\n",
              "    </tr>\n",
              "  </thead>\n",
              "  <tbody>\n",
              "    <tr>\n",
              "      <th>0</th>\n",
              "      <td>235.0</td>\n",
              "      <td>US</td>\n",
              "    </tr>\n",
              "    <tr>\n",
              "      <th>1</th>\n",
              "      <td>110.0</td>\n",
              "      <td>Spain</td>\n",
              "    </tr>\n",
              "    <tr>\n",
              "      <th>2</th>\n",
              "      <td>90.0</td>\n",
              "      <td>US</td>\n",
              "    </tr>\n",
              "    <tr>\n",
              "      <th>3</th>\n",
              "      <td>65.0</td>\n",
              "      <td>US</td>\n",
              "    </tr>\n",
              "    <tr>\n",
              "      <th>4</th>\n",
              "      <td>66.0</td>\n",
              "      <td>France</td>\n",
              "    </tr>\n",
              "  </tbody>\n",
              "</table>\n",
              "</div>"
            ],
            "text/plain": [
              "   price country\n",
              "0  235.0      US\n",
              "1  110.0   Spain\n",
              "2   90.0      US\n",
              "3   65.0      US\n",
              "4   66.0  France"
            ]
          },
          "metadata": {
            "tags": []
          },
          "execution_count": 86
        }
      ]
    },
    {
      "cell_type": "markdown",
      "metadata": {
        "id": "Pw7bsVKPhkyg",
        "colab_type": "text"
      },
      "source": [
        "#### Отбираем по  строкам. Версия 1. \n",
        "\n",
        "*Разбор данного раздела:* https://youtu.be/VNOMMiFjJ7E?t=4060"
      ]
    },
    {
      "cell_type": "code",
      "metadata": {
        "id": "-3ntG2CzhDyV",
        "colab_type": "code",
        "colab": {}
      },
      "source": [
        "data[10:20] # Отобразим с 10й по 20ю строки датафрейма"
      ],
      "execution_count": 0,
      "outputs": []
    },
    {
      "cell_type": "code",
      "metadata": {
        "id": "DaW5dRU7hkyh",
        "colab_type": "code",
        "colab": {}
      },
      "source": [
        "data[10:20:3] # Отобразим с 10й по 20ю строки датафрейма с шагом 2"
      ],
      "execution_count": 0,
      "outputs": []
    },
    {
      "cell_type": "code",
      "metadata": {
        "id": "zXqL-lBEhGkG",
        "colab_type": "code",
        "colab": {}
      },
      "source": [
        "data[::5].head(10) # Отобразим каждую 5ю строку датафрейма"
      ],
      "execution_count": 0,
      "outputs": []
    },
    {
      "cell_type": "markdown",
      "metadata": {
        "id": "pV0kczWfhkyk",
        "colab_type": "text"
      },
      "source": [
        "#### Отбор по столбцам. Версия 2. Все еще по названиям \n",
        "\n",
        "*Разбор данного раздела:* https://youtu.be/VNOMMiFjJ7E?t=4218"
      ]
    },
    {
      "cell_type": "code",
      "metadata": {
        "id": "LfRYRSsohkyk",
        "colab_type": "code",
        "outputId": "05036c8b-cbd0-440f-d7aa-84a6e65ddf7d",
        "colab": {
          "base_uri": "https://localhost:8080/",
          "height": 166
        }
      },
      "source": [
        "data.loc[4:7, ['price', 'points']] # Отобразим два столбца 'price' и 'points', и в них строки с индексами с 4 по 7"
      ],
      "execution_count": 0,
      "outputs": [
        {
          "output_type": "execute_result",
          "data": {
            "text/html": [
              "<div>\n",
              "<style scoped>\n",
              "    .dataframe tbody tr th:only-of-type {\n",
              "        vertical-align: middle;\n",
              "    }\n",
              "\n",
              "    .dataframe tbody tr th {\n",
              "        vertical-align: top;\n",
              "    }\n",
              "\n",
              "    .dataframe thead th {\n",
              "        text-align: right;\n",
              "    }\n",
              "</style>\n",
              "<table border=\"1\" class=\"dataframe\">\n",
              "  <thead>\n",
              "    <tr style=\"text-align: right;\">\n",
              "      <th></th>\n",
              "      <th>price</th>\n",
              "      <th>points</th>\n",
              "    </tr>\n",
              "  </thead>\n",
              "  <tbody>\n",
              "    <tr>\n",
              "      <th>4</th>\n",
              "      <td>66.0</td>\n",
              "      <td>95</td>\n",
              "    </tr>\n",
              "    <tr>\n",
              "      <th>5</th>\n",
              "      <td>73.0</td>\n",
              "      <td>95</td>\n",
              "    </tr>\n",
              "    <tr>\n",
              "      <th>6</th>\n",
              "      <td>65.0</td>\n",
              "      <td>95</td>\n",
              "    </tr>\n",
              "    <tr>\n",
              "      <th>7</th>\n",
              "      <td>110.0</td>\n",
              "      <td>95</td>\n",
              "    </tr>\n",
              "  </tbody>\n",
              "</table>\n",
              "</div>"
            ],
            "text/plain": [
              "   price  points\n",
              "4   66.0      95\n",
              "5   73.0      95\n",
              "6   65.0      95\n",
              "7  110.0      95"
            ]
          },
          "metadata": {
            "tags": []
          },
          "execution_count": 94
        }
      ]
    },
    {
      "cell_type": "markdown",
      "metadata": {
        "id": "CK4-ntzDhkyo",
        "colab_type": "text"
      },
      "source": [
        "#### Отбор по  строкам. Версия 2. Все еще по названиям \n",
        "\n",
        "*Разбор данного раздела:* https://youtu.be/VNOMMiFjJ7E?t=4288"
      ]
    },
    {
      "cell_type": "code",
      "metadata": {
        "id": "eqAQs0YIhkyq",
        "colab_type": "code",
        "outputId": "0ad00ccb-f900-4869-f94f-6c128d96ee47",
        "colab": {
          "base_uri": "https://localhost:8080/",
          "height": 326
        }
      },
      "source": [
        "data.loc[:5,:] # Отобразим строки с индексом от 0 до 5  (то же, что и data.loc[:5])"
      ],
      "execution_count": 0,
      "outputs": [
        {
          "output_type": "execute_result",
          "data": {
            "text/html": [
              "<div>\n",
              "<style scoped>\n",
              "    .dataframe tbody tr th:only-of-type {\n",
              "        vertical-align: middle;\n",
              "    }\n",
              "\n",
              "    .dataframe tbody tr th {\n",
              "        vertical-align: top;\n",
              "    }\n",
              "\n",
              "    .dataframe thead th {\n",
              "        text-align: right;\n",
              "    }\n",
              "</style>\n",
              "<table border=\"1\" class=\"dataframe\">\n",
              "  <thead>\n",
              "    <tr style=\"text-align: right;\">\n",
              "      <th></th>\n",
              "      <th>country</th>\n",
              "      <th>description</th>\n",
              "      <th>designation</th>\n",
              "      <th>points</th>\n",
              "      <th>price</th>\n",
              "      <th>province</th>\n",
              "      <th>region_1</th>\n",
              "      <th>region_2</th>\n",
              "      <th>variety</th>\n",
              "      <th>winery</th>\n",
              "    </tr>\n",
              "  </thead>\n",
              "  <tbody>\n",
              "    <tr>\n",
              "      <th>0</th>\n",
              "      <td>US</td>\n",
              "      <td>This tremendous 100% varietal wine hails from ...</td>\n",
              "      <td>Martha's Vineyard</td>\n",
              "      <td>96</td>\n",
              "      <td>235.0</td>\n",
              "      <td>California</td>\n",
              "      <td>Napa Valley</td>\n",
              "      <td>Napa</td>\n",
              "      <td>Cabernet Sauvignon</td>\n",
              "      <td>Heitz</td>\n",
              "    </tr>\n",
              "    <tr>\n",
              "      <th>1</th>\n",
              "      <td>Spain</td>\n",
              "      <td>Ripe aromas of fig, blackberry and cassis are ...</td>\n",
              "      <td>Carodorum Selección Especial Reserva</td>\n",
              "      <td>96</td>\n",
              "      <td>110.0</td>\n",
              "      <td>Northern Spain</td>\n",
              "      <td>Toro</td>\n",
              "      <td>NaN</td>\n",
              "      <td>Tinta de Toro</td>\n",
              "      <td>Bodega Carmen Rodríguez</td>\n",
              "    </tr>\n",
              "    <tr>\n",
              "      <th>2</th>\n",
              "      <td>US</td>\n",
              "      <td>Mac Watson honors the memory of a wine once ma...</td>\n",
              "      <td>Special Selected Late Harvest</td>\n",
              "      <td>96</td>\n",
              "      <td>90.0</td>\n",
              "      <td>California</td>\n",
              "      <td>Knights Valley</td>\n",
              "      <td>Sonoma</td>\n",
              "      <td>Sauvignon Blanc</td>\n",
              "      <td>Macauley</td>\n",
              "    </tr>\n",
              "    <tr>\n",
              "      <th>3</th>\n",
              "      <td>US</td>\n",
              "      <td>This spent 20 months in 30% new French oak, an...</td>\n",
              "      <td>Reserve</td>\n",
              "      <td>96</td>\n",
              "      <td>65.0</td>\n",
              "      <td>Oregon</td>\n",
              "      <td>Willamette Valley</td>\n",
              "      <td>Willamette Valley</td>\n",
              "      <td>Pinot Noir</td>\n",
              "      <td>Ponzi</td>\n",
              "    </tr>\n",
              "    <tr>\n",
              "      <th>4</th>\n",
              "      <td>France</td>\n",
              "      <td>This is the top wine from La Bégude, named aft...</td>\n",
              "      <td>La Brûlade</td>\n",
              "      <td>95</td>\n",
              "      <td>66.0</td>\n",
              "      <td>Provence</td>\n",
              "      <td>Bandol</td>\n",
              "      <td>NaN</td>\n",
              "      <td>Provence red blend</td>\n",
              "      <td>Domaine de la Bégude</td>\n",
              "    </tr>\n",
              "    <tr>\n",
              "      <th>5</th>\n",
              "      <td>Spain</td>\n",
              "      <td>Deep, dense and pure from the opening bell, th...</td>\n",
              "      <td>Numanthia</td>\n",
              "      <td>95</td>\n",
              "      <td>73.0</td>\n",
              "      <td>Northern Spain</td>\n",
              "      <td>Toro</td>\n",
              "      <td>NaN</td>\n",
              "      <td>Tinta de Toro</td>\n",
              "      <td>Numanthia</td>\n",
              "    </tr>\n",
              "  </tbody>\n",
              "</table>\n",
              "</div>"
            ],
            "text/plain": [
              "  country  ...                   winery\n",
              "0      US  ...                    Heitz\n",
              "1   Spain  ...  Bodega Carmen Rodríguez\n",
              "2      US  ...                 Macauley\n",
              "3      US  ...                    Ponzi\n",
              "4  France  ...     Domaine de la Bégude\n",
              "5   Spain  ...                Numanthia\n",
              "\n",
              "[6 rows x 10 columns]"
            ]
          },
          "metadata": {
            "tags": []
          },
          "execution_count": 97
        }
      ]
    },
    {
      "cell_type": "markdown",
      "metadata": {
        "id": "NGugpgJfhkyv",
        "colab_type": "text"
      },
      "source": [
        "#### Отбор по строчкам и столбцам. Версия 3. По номеру строк и столбцов\n",
        "\n",
        "*Разбор данного раздела:* https://youtu.be/VNOMMiFjJ7E?t=4355"
      ]
    },
    {
      "cell_type": "code",
      "metadata": {
        "scrolled": false,
        "id": "CG0aSTW8hkyv",
        "colab_type": "code",
        "outputId": "2b9f47d4-3d88-4fc5-eb11-1a9c47782391",
        "colab": {
          "base_uri": "https://localhost:8080/",
          "height": 195
        }
      },
      "source": [
        "data.iloc[::5, [1,3]].head() # Отобразим каждую 5 строку и 1 и 3 столбец"
      ],
      "execution_count": 0,
      "outputs": [
        {
          "output_type": "execute_result",
          "data": {
            "text/html": [
              "<div>\n",
              "<style scoped>\n",
              "    .dataframe tbody tr th:only-of-type {\n",
              "        vertical-align: middle;\n",
              "    }\n",
              "\n",
              "    .dataframe tbody tr th {\n",
              "        vertical-align: top;\n",
              "    }\n",
              "\n",
              "    .dataframe thead th {\n",
              "        text-align: right;\n",
              "    }\n",
              "</style>\n",
              "<table border=\"1\" class=\"dataframe\">\n",
              "  <thead>\n",
              "    <tr style=\"text-align: right;\">\n",
              "      <th></th>\n",
              "      <th>description</th>\n",
              "      <th>points</th>\n",
              "    </tr>\n",
              "  </thead>\n",
              "  <tbody>\n",
              "    <tr>\n",
              "      <th>0</th>\n",
              "      <td>This tremendous 100% varietal wine hails from ...</td>\n",
              "      <td>96</td>\n",
              "    </tr>\n",
              "    <tr>\n",
              "      <th>5</th>\n",
              "      <td>Deep, dense and pure from the opening bell, th...</td>\n",
              "      <td>95</td>\n",
              "    </tr>\n",
              "    <tr>\n",
              "      <th>10</th>\n",
              "      <td>Elegance, complexity and structure come togeth...</td>\n",
              "      <td>95</td>\n",
              "    </tr>\n",
              "    <tr>\n",
              "      <th>15</th>\n",
              "      <td>First made in 2006, this succulent luscious Ch...</td>\n",
              "      <td>95</td>\n",
              "    </tr>\n",
              "    <tr>\n",
              "      <th>20</th>\n",
              "      <td>Heitz has made this stellar rosé from the rare...</td>\n",
              "      <td>95</td>\n",
              "    </tr>\n",
              "  </tbody>\n",
              "</table>\n",
              "</div>"
            ],
            "text/plain": [
              "                                          description  points\n",
              "0   This tremendous 100% varietal wine hails from ...      96\n",
              "5   Deep, dense and pure from the opening bell, th...      95\n",
              "10  Elegance, complexity and structure come togeth...      95\n",
              "15  First made in 2006, this succulent luscious Ch...      95\n",
              "20  Heitz has made this stellar rosé from the rare...      95"
            ]
          },
          "metadata": {
            "tags": []
          },
          "execution_count": 98
        }
      ]
    },
    {
      "cell_type": "markdown",
      "metadata": {
        "id": "sIao6149hkyy",
        "colab_type": "text"
      },
      "source": [
        "#### Отбор с условиями\n",
        "\n",
        "*Разбор данного раздела:* https://youtu.be/VNOMMiFjJ7E?t=4427\n",
        "\n",
        "Так, а если мне нужны вина дороже $15 долларов? Как быть?"
      ]
    },
    {
      "cell_type": "code",
      "metadata": {
        "id": "YsIrLdRnhkyy",
        "colab_type": "code",
        "colab": {}
      },
      "source": [
        "#задаем маску\n",
        "mask = data['price'] > 300"
      ],
      "execution_count": 0,
      "outputs": []
    },
    {
      "cell_type": "code",
      "metadata": {
        "id": "nfVB6YBbhky0",
        "colab_type": "code",
        "outputId": "70908df8-0add-4881-8401-0c04fcc85d89",
        "colab": {
          "base_uri": "https://localhost:8080/",
          "height": 118
        }
      },
      "source": [
        "mask.head() # Отобразим маску"
      ],
      "execution_count": 0,
      "outputs": [
        {
          "output_type": "execute_result",
          "data": {
            "text/plain": [
              "0    False\n",
              "1    False\n",
              "2    False\n",
              "3    False\n",
              "4    False\n",
              "Name: price, dtype: bool"
            ]
          },
          "metadata": {
            "tags": []
          },
          "execution_count": 100
        }
      ]
    },
    {
      "cell_type": "code",
      "metadata": {
        "id": "FADnit0Ghky2",
        "colab_type": "code",
        "outputId": "e77a980d-0677-40e8-efec-dea2173d19d1",
        "colab": {
          "base_uri": "https://localhost:8080/",
          "height": 195
        }
      },
      "source": [
        "#и отбираем данные\n",
        "temp = data[mask] # Выбираем данные из датафрейма в соответствии с маской и записываем их в новый даатафрейм temp\n",
        "temp.head() # Отображаем temp"
      ],
      "execution_count": 0,
      "outputs": [
        {
          "output_type": "execute_result",
          "data": {
            "text/html": [
              "<div>\n",
              "<style scoped>\n",
              "    .dataframe tbody tr th:only-of-type {\n",
              "        vertical-align: middle;\n",
              "    }\n",
              "\n",
              "    .dataframe tbody tr th {\n",
              "        vertical-align: top;\n",
              "    }\n",
              "\n",
              "    .dataframe thead th {\n",
              "        text-align: right;\n",
              "    }\n",
              "</style>\n",
              "<table border=\"1\" class=\"dataframe\">\n",
              "  <thead>\n",
              "    <tr style=\"text-align: right;\">\n",
              "      <th></th>\n",
              "      <th>country</th>\n",
              "      <th>description</th>\n",
              "      <th>designation</th>\n",
              "      <th>points</th>\n",
              "      <th>price</th>\n",
              "      <th>province</th>\n",
              "      <th>region_1</th>\n",
              "      <th>region_2</th>\n",
              "      <th>variety</th>\n",
              "      <th>winery</th>\n",
              "    </tr>\n",
              "  </thead>\n",
              "  <tbody>\n",
              "    <tr>\n",
              "      <th>16</th>\n",
              "      <td>US</td>\n",
              "      <td>This blockbuster, powerhouse of a wine suggest...</td>\n",
              "      <td>Rainin Vineyard</td>\n",
              "      <td>95</td>\n",
              "      <td>325.0</td>\n",
              "      <td>California</td>\n",
              "      <td>Diamond Mountain District</td>\n",
              "      <td>Napa</td>\n",
              "      <td>Cabernet Sauvignon</td>\n",
              "      <td>Hall</td>\n",
              "    </tr>\n",
              "    <tr>\n",
              "      <th>898</th>\n",
              "      <td>Italy</td>\n",
              "      <td>Aromas of crushed plum, asphalt, oak, toast, e...</td>\n",
              "      <td>Sorì Tildin</td>\n",
              "      <td>92</td>\n",
              "      <td>500.0</td>\n",
              "      <td>Piedmont</td>\n",
              "      <td>Langhe</td>\n",
              "      <td>NaN</td>\n",
              "      <td>Red Blend</td>\n",
              "      <td>Gaja</td>\n",
              "    </tr>\n",
              "    <tr>\n",
              "      <th>2145</th>\n",
              "      <td>France</td>\n",
              "      <td>Full of ripe fruit, opulent and concentrated, ...</td>\n",
              "      <td>NaN</td>\n",
              "      <td>100</td>\n",
              "      <td>848.0</td>\n",
              "      <td>Bordeaux</td>\n",
              "      <td>Pessac-Léognan</td>\n",
              "      <td>NaN</td>\n",
              "      <td>Bordeaux-style White Blend</td>\n",
              "      <td>Château Haut-Brion</td>\n",
              "    </tr>\n",
              "    <tr>\n",
              "      <th>2155</th>\n",
              "      <td>France</td>\n",
              "      <td>There is a sense of pure juicy black-currant f...</td>\n",
              "      <td>NaN</td>\n",
              "      <td>97</td>\n",
              "      <td>450.0</td>\n",
              "      <td>Bordeaux</td>\n",
              "      <td>Margaux</td>\n",
              "      <td>NaN</td>\n",
              "      <td>Bordeaux-style Red Blend</td>\n",
              "      <td>Château Margaux</td>\n",
              "    </tr>\n",
              "    <tr>\n",
              "      <th>2159</th>\n",
              "      <td>France</td>\n",
              "      <td>With seriously dense tannins, this shows great...</td>\n",
              "      <td>NaN</td>\n",
              "      <td>97</td>\n",
              "      <td>330.0</td>\n",
              "      <td>Bordeaux</td>\n",
              "      <td>Pessac-Léognan</td>\n",
              "      <td>NaN</td>\n",
              "      <td>Bordeaux-style Red Blend</td>\n",
              "      <td>Château Haut-Brion</td>\n",
              "    </tr>\n",
              "  </tbody>\n",
              "</table>\n",
              "</div>"
            ],
            "text/plain": [
              "     country  ...              winery\n",
              "16        US  ...                Hall\n",
              "898    Italy  ...                Gaja\n",
              "2145  France  ...  Château Haut-Brion\n",
              "2155  France  ...     Château Margaux\n",
              "2159  France  ...  Château Haut-Brion\n",
              "\n",
              "[5 rows x 10 columns]"
            ]
          },
          "metadata": {
            "tags": []
          },
          "execution_count": 101
        }
      ]
    },
    {
      "cell_type": "code",
      "metadata": {
        "id": "EHT3VYtNhky4",
        "colab_type": "code",
        "outputId": "45096d5a-00b4-4728-85b7-b18e276998a4",
        "colab": {
          "base_uri": "https://localhost:8080/",
          "height": 195
        }
      },
      "source": [
        "data[data.price>300].head()# Альтернативный вариант"
      ],
      "execution_count": 0,
      "outputs": [
        {
          "output_type": "execute_result",
          "data": {
            "text/html": [
              "<div>\n",
              "<style scoped>\n",
              "    .dataframe tbody tr th:only-of-type {\n",
              "        vertical-align: middle;\n",
              "    }\n",
              "\n",
              "    .dataframe tbody tr th {\n",
              "        vertical-align: top;\n",
              "    }\n",
              "\n",
              "    .dataframe thead th {\n",
              "        text-align: right;\n",
              "    }\n",
              "</style>\n",
              "<table border=\"1\" class=\"dataframe\">\n",
              "  <thead>\n",
              "    <tr style=\"text-align: right;\">\n",
              "      <th></th>\n",
              "      <th>country</th>\n",
              "      <th>description</th>\n",
              "      <th>designation</th>\n",
              "      <th>points</th>\n",
              "      <th>price</th>\n",
              "      <th>province</th>\n",
              "      <th>region_1</th>\n",
              "      <th>region_2</th>\n",
              "      <th>variety</th>\n",
              "      <th>winery</th>\n",
              "    </tr>\n",
              "  </thead>\n",
              "  <tbody>\n",
              "    <tr>\n",
              "      <th>16</th>\n",
              "      <td>US</td>\n",
              "      <td>This blockbuster, powerhouse of a wine suggest...</td>\n",
              "      <td>Rainin Vineyard</td>\n",
              "      <td>95</td>\n",
              "      <td>325.0</td>\n",
              "      <td>California</td>\n",
              "      <td>Diamond Mountain District</td>\n",
              "      <td>Napa</td>\n",
              "      <td>Cabernet Sauvignon</td>\n",
              "      <td>Hall</td>\n",
              "    </tr>\n",
              "    <tr>\n",
              "      <th>898</th>\n",
              "      <td>Italy</td>\n",
              "      <td>Aromas of crushed plum, asphalt, oak, toast, e...</td>\n",
              "      <td>Sorì Tildin</td>\n",
              "      <td>92</td>\n",
              "      <td>500.0</td>\n",
              "      <td>Piedmont</td>\n",
              "      <td>Langhe</td>\n",
              "      <td>NaN</td>\n",
              "      <td>Red Blend</td>\n",
              "      <td>Gaja</td>\n",
              "    </tr>\n",
              "    <tr>\n",
              "      <th>2145</th>\n",
              "      <td>France</td>\n",
              "      <td>Full of ripe fruit, opulent and concentrated, ...</td>\n",
              "      <td>NaN</td>\n",
              "      <td>100</td>\n",
              "      <td>848.0</td>\n",
              "      <td>Bordeaux</td>\n",
              "      <td>Pessac-Léognan</td>\n",
              "      <td>NaN</td>\n",
              "      <td>Bordeaux-style White Blend</td>\n",
              "      <td>Château Haut-Brion</td>\n",
              "    </tr>\n",
              "    <tr>\n",
              "      <th>2155</th>\n",
              "      <td>France</td>\n",
              "      <td>There is a sense of pure juicy black-currant f...</td>\n",
              "      <td>NaN</td>\n",
              "      <td>97</td>\n",
              "      <td>450.0</td>\n",
              "      <td>Bordeaux</td>\n",
              "      <td>Margaux</td>\n",
              "      <td>NaN</td>\n",
              "      <td>Bordeaux-style Red Blend</td>\n",
              "      <td>Château Margaux</td>\n",
              "    </tr>\n",
              "    <tr>\n",
              "      <th>2159</th>\n",
              "      <td>France</td>\n",
              "      <td>With seriously dense tannins, this shows great...</td>\n",
              "      <td>NaN</td>\n",
              "      <td>97</td>\n",
              "      <td>330.0</td>\n",
              "      <td>Bordeaux</td>\n",
              "      <td>Pessac-Léognan</td>\n",
              "      <td>NaN</td>\n",
              "      <td>Bordeaux-style Red Blend</td>\n",
              "      <td>Château Haut-Brion</td>\n",
              "    </tr>\n",
              "  </tbody>\n",
              "</table>\n",
              "</div>"
            ],
            "text/plain": [
              "     country  ...              winery\n",
              "16        US  ...                Hall\n",
              "898    Italy  ...                Gaja\n",
              "2145  France  ...  Château Haut-Brion\n",
              "2155  France  ...     Château Margaux\n",
              "2159  France  ...  Château Haut-Brion\n",
              "\n",
              "[5 rows x 10 columns]"
            ]
          },
          "metadata": {
            "tags": []
          },
          "execution_count": 104
        }
      ]
    },
    {
      "cell_type": "code",
      "metadata": {
        "id": "Moi8GwyVhky8",
        "colab_type": "code",
        "outputId": "6bb8bc38-d779-4a13-9bec-2157909e1c14",
        "colab": {
          "base_uri": "https://localhost:8080/",
          "height": 743
        }
      },
      "source": [
        "data[(data.price > 200) & ((data.country == 'US') | (data.country == 'France'))].head(15) # Составное условие"
      ],
      "execution_count": 0,
      "outputs": [
        {
          "output_type": "execute_result",
          "data": {
            "text/html": [
              "<div>\n",
              "<style scoped>\n",
              "    .dataframe tbody tr th:only-of-type {\n",
              "        vertical-align: middle;\n",
              "    }\n",
              "\n",
              "    .dataframe tbody tr th {\n",
              "        vertical-align: top;\n",
              "    }\n",
              "\n",
              "    .dataframe thead th {\n",
              "        text-align: right;\n",
              "    }\n",
              "</style>\n",
              "<table border=\"1\" class=\"dataframe\">\n",
              "  <thead>\n",
              "    <tr style=\"text-align: right;\">\n",
              "      <th></th>\n",
              "      <th>country</th>\n",
              "      <th>description</th>\n",
              "      <th>designation</th>\n",
              "      <th>points</th>\n",
              "      <th>price</th>\n",
              "      <th>province</th>\n",
              "      <th>region_1</th>\n",
              "      <th>region_2</th>\n",
              "      <th>variety</th>\n",
              "      <th>winery</th>\n",
              "    </tr>\n",
              "  </thead>\n",
              "  <tbody>\n",
              "    <tr>\n",
              "      <th>0</th>\n",
              "      <td>US</td>\n",
              "      <td>This tremendous 100% varietal wine hails from ...</td>\n",
              "      <td>Martha's Vineyard</td>\n",
              "      <td>200</td>\n",
              "      <td>1000.0</td>\n",
              "      <td>California</td>\n",
              "      <td>Napa Valley</td>\n",
              "      <td>Syberia</td>\n",
              "      <td>Cabernet Sauvignon</td>\n",
              "      <td>Heitz</td>\n",
              "    </tr>\n",
              "    <tr>\n",
              "      <th>14</th>\n",
              "      <td>US</td>\n",
              "      <td>With its sophisticated mix of mineral, acid an...</td>\n",
              "      <td>Grace Vineyard</td>\n",
              "      <td>200</td>\n",
              "      <td>1000.0</td>\n",
              "      <td>Oregon</td>\n",
              "      <td>Dundee Hills</td>\n",
              "      <td>Syberia</td>\n",
              "      <td>Pinot Noir</td>\n",
              "      <td>Domaine Serene</td>\n",
              "    </tr>\n",
              "    <tr>\n",
              "      <th>16</th>\n",
              "      <td>US</td>\n",
              "      <td>This blockbuster, powerhouse of a wine suggest...</td>\n",
              "      <td>Rainin Vineyard</td>\n",
              "      <td>200</td>\n",
              "      <td>1000.0</td>\n",
              "      <td>California</td>\n",
              "      <td>Diamond Mountain District</td>\n",
              "      <td>Syberia</td>\n",
              "      <td>Cabernet Sauvignon</td>\n",
              "      <td>Hall</td>\n",
              "    </tr>\n",
              "    <tr>\n",
              "      <th>18</th>\n",
              "      <td>France</td>\n",
              "      <td>Coming from a seven-acre vineyard named after ...</td>\n",
              "      <td>Le Pigeonnier</td>\n",
              "      <td>200</td>\n",
              "      <td>1000.0</td>\n",
              "      <td>Southwest France</td>\n",
              "      <td>Cahors</td>\n",
              "      <td>NaN</td>\n",
              "      <td>Malbec</td>\n",
              "      <td>Château Lagrézette</td>\n",
              "    </tr>\n",
              "    <tr>\n",
              "      <th>27</th>\n",
              "      <td>US</td>\n",
              "      <td>Focused and dense, this intense wine captures ...</td>\n",
              "      <td>Abetina</td>\n",
              "      <td>200</td>\n",
              "      <td>1000.0</td>\n",
              "      <td>Oregon</td>\n",
              "      <td>Willamette Valley</td>\n",
              "      <td>Syberia</td>\n",
              "      <td>Pinot Noir</td>\n",
              "      <td>Ponzi</td>\n",
              "    </tr>\n",
              "    <tr>\n",
              "      <th>112</th>\n",
              "      <td>US</td>\n",
              "      <td>This mountain-grown wine is hugely tannic and ...</td>\n",
              "      <td>Limited Release Cold Springs Vineyard</td>\n",
              "      <td>200</td>\n",
              "      <td>1000.0</td>\n",
              "      <td>California</td>\n",
              "      <td>Howell Mountain</td>\n",
              "      <td>Syberia</td>\n",
              "      <td>Cabernet Sauvignon</td>\n",
              "      <td>Charles Krug</td>\n",
              "    </tr>\n",
              "    <tr>\n",
              "      <th>225</th>\n",
              "      <td>France</td>\n",
              "      <td>From one of the many recent exceptional years ...</td>\n",
              "      <td>NaN</td>\n",
              "      <td>200</td>\n",
              "      <td>1000.0</td>\n",
              "      <td>Bordeaux</td>\n",
              "      <td>Sauternes</td>\n",
              "      <td>NaN</td>\n",
              "      <td>Bordeaux-style White Blend</td>\n",
              "      <td>Château Raymond-Lafon</td>\n",
              "    </tr>\n",
              "    <tr>\n",
              "      <th>231</th>\n",
              "      <td>US</td>\n",
              "      <td>From a seven-acre section of the vineyard, thi...</td>\n",
              "      <td>Red Rock Terrace</td>\n",
              "      <td>200</td>\n",
              "      <td>1000.0</td>\n",
              "      <td>California</td>\n",
              "      <td>Napa Valley</td>\n",
              "      <td>Syberia</td>\n",
              "      <td>Cabernet Sauvignon</td>\n",
              "      <td>Diamond Creek</td>\n",
              "    </tr>\n",
              "    <tr>\n",
              "      <th>313</th>\n",
              "      <td>US</td>\n",
              "      <td>This impressive 100% varietal wine shows focus...</td>\n",
              "      <td>Outer Limits</td>\n",
              "      <td>200</td>\n",
              "      <td>1000.0</td>\n",
              "      <td>California</td>\n",
              "      <td>Napa Valley</td>\n",
              "      <td>Syberia</td>\n",
              "      <td>Cabernet Sauvignon</td>\n",
              "      <td>Parallel</td>\n",
              "    </tr>\n",
              "    <tr>\n",
              "      <th>514</th>\n",
              "      <td>US</td>\n",
              "      <td>Muted black plum teases from the nose of this ...</td>\n",
              "      <td>Cambium</td>\n",
              "      <td>200</td>\n",
              "      <td>1000.0</td>\n",
              "      <td>California</td>\n",
              "      <td>Napa Valley</td>\n",
              "      <td>Syberia</td>\n",
              "      <td>Bordeaux-style Red Blend</td>\n",
              "      <td>Sequoia Grove</td>\n",
              "    </tr>\n",
              "    <tr>\n",
              "      <th>583</th>\n",
              "      <td>US</td>\n",
              "      <td>High-toned aromas of cranberry, herb, black li...</td>\n",
              "      <td>NaN</td>\n",
              "      <td>200</td>\n",
              "      <td>1000.0</td>\n",
              "      <td>Washington</td>\n",
              "      <td>Washington</td>\n",
              "      <td>Syberia</td>\n",
              "      <td>Bordeaux-style Red Blend</td>\n",
              "      <td>21 Grams</td>\n",
              "    </tr>\n",
              "    <tr>\n",
              "      <th>594</th>\n",
              "      <td>US</td>\n",
              "      <td>Another beauty from this producer and this app...</td>\n",
              "      <td>Hughes</td>\n",
              "      <td>200</td>\n",
              "      <td>1000.0</td>\n",
              "      <td>California</td>\n",
              "      <td>Howell Mountain</td>\n",
              "      <td>Syberia</td>\n",
              "      <td>Cabernet Sauvignon</td>\n",
              "      <td>Sbragia</td>\n",
              "    </tr>\n",
              "    <tr>\n",
              "      <th>650</th>\n",
              "      <td>US</td>\n",
              "      <td>While soft and approachable, this wine also of...</td>\n",
              "      <td>Laki's Vineyard Estate</td>\n",
              "      <td>200</td>\n",
              "      <td>1000.0</td>\n",
              "      <td>California</td>\n",
              "      <td>Oak Knoll District</td>\n",
              "      <td>Syberia</td>\n",
              "      <td>Cabernet Sauvignon</td>\n",
              "      <td>Eleven Eleven</td>\n",
              "    </tr>\n",
              "    <tr>\n",
              "      <th>888</th>\n",
              "      <td>US</td>\n",
              "      <td>Pure Merlot from the Stillwater Creek Vineyard...</td>\n",
              "      <td>NaN</td>\n",
              "      <td>200</td>\n",
              "      <td>1000.0</td>\n",
              "      <td>Washington</td>\n",
              "      <td>Columbia Valley (WA)</td>\n",
              "      <td>Syberia</td>\n",
              "      <td>Merlot</td>\n",
              "      <td>Matteo</td>\n",
              "    </tr>\n",
              "    <tr>\n",
              "      <th>915</th>\n",
              "      <td>US</td>\n",
              "      <td>Multiple vineyards contribute to this standout...</td>\n",
              "      <td>Récolte Grand Cru</td>\n",
              "      <td>200</td>\n",
              "      <td>1000.0</td>\n",
              "      <td>Oregon</td>\n",
              "      <td>Dundee Hills</td>\n",
              "      <td>Syberia</td>\n",
              "      <td>Chardonnay</td>\n",
              "      <td>Domaine Serene</td>\n",
              "    </tr>\n",
              "  </tbody>\n",
              "</table>\n",
              "</div>"
            ],
            "text/plain": [
              "    country  ...                 winery\n",
              "0        US  ...                  Heitz\n",
              "14       US  ...         Domaine Serene\n",
              "16       US  ...                   Hall\n",
              "18   France  ...     Château Lagrézette\n",
              "27       US  ...                  Ponzi\n",
              "112      US  ...           Charles Krug\n",
              "225  France  ...  Château Raymond-Lafon\n",
              "231      US  ...          Diamond Creek\n",
              "313      US  ...               Parallel\n",
              "514      US  ...          Sequoia Grove\n",
              "583      US  ...               21 Grams\n",
              "594      US  ...                Sbragia\n",
              "650      US  ...          Eleven Eleven\n",
              "888      US  ...                 Matteo\n",
              "915      US  ...         Domaine Serene\n",
              "\n",
              "[15 rows x 10 columns]"
            ]
          },
          "metadata": {
            "tags": []
          },
          "execution_count": 129
        }
      ]
    },
    {
      "cell_type": "markdown",
      "metadata": {
        "id": "Da0WfR_5hky_",
        "colab_type": "text"
      },
      "source": [
        "### Мультииндексация\n",
        "\n",
        "*Разбор данного раздела:* https://youtu.be/VNOMMiFjJ7E?t=4547"
      ]
    },
    {
      "cell_type": "code",
      "metadata": {
        "id": "gIqtjR45hky_",
        "colab_type": "code",
        "outputId": "d96c2623-4533-4222-f7e4-b84e3a40ed01",
        "colab": {
          "base_uri": "https://localhost:8080/",
          "height": 262
        }
      },
      "source": [
        "data.head() # Отобразим наш датафрем"
      ],
      "execution_count": 0,
      "outputs": [
        {
          "output_type": "execute_result",
          "data": {
            "text/html": [
              "<div>\n",
              "<style scoped>\n",
              "    .dataframe tbody tr th:only-of-type {\n",
              "        vertical-align: middle;\n",
              "    }\n",
              "\n",
              "    .dataframe tbody tr th {\n",
              "        vertical-align: top;\n",
              "    }\n",
              "\n",
              "    .dataframe thead th {\n",
              "        text-align: right;\n",
              "    }\n",
              "</style>\n",
              "<table border=\"1\" class=\"dataframe\">\n",
              "  <thead>\n",
              "    <tr style=\"text-align: right;\">\n",
              "      <th></th>\n",
              "      <th>country</th>\n",
              "      <th>description</th>\n",
              "      <th>designation</th>\n",
              "      <th>points</th>\n",
              "      <th>price</th>\n",
              "      <th>province</th>\n",
              "      <th>region_1</th>\n",
              "      <th>region_2</th>\n",
              "      <th>variety</th>\n",
              "      <th>winery</th>\n",
              "    </tr>\n",
              "  </thead>\n",
              "  <tbody>\n",
              "    <tr>\n",
              "      <th>0</th>\n",
              "      <td>US</td>\n",
              "      <td>This tremendous 100% varietal wine hails from ...</td>\n",
              "      <td>Martha's Vineyard</td>\n",
              "      <td>200</td>\n",
              "      <td>1000.0</td>\n",
              "      <td>California</td>\n",
              "      <td>Napa Valley</td>\n",
              "      <td>Syberia</td>\n",
              "      <td>Cabernet Sauvignon</td>\n",
              "      <td>Heitz</td>\n",
              "    </tr>\n",
              "    <tr>\n",
              "      <th>1</th>\n",
              "      <td>Spain</td>\n",
              "      <td>Ripe aromas of fig, blackberry and cassis are ...</td>\n",
              "      <td>Carodorum Selección Especial Reserva</td>\n",
              "      <td>200</td>\n",
              "      <td>1000.0</td>\n",
              "      <td>Northern Spain</td>\n",
              "      <td>Toro</td>\n",
              "      <td>NaN</td>\n",
              "      <td>Tinta de Toro</td>\n",
              "      <td>Bodega Carmen Rodríguez</td>\n",
              "    </tr>\n",
              "    <tr>\n",
              "      <th>2</th>\n",
              "      <td>US</td>\n",
              "      <td>Mac Watson honors the memory of a wine once ma...</td>\n",
              "      <td>Special Selected Late Harvest</td>\n",
              "      <td>96</td>\n",
              "      <td>90.0</td>\n",
              "      <td>California</td>\n",
              "      <td>Knights Valley</td>\n",
              "      <td>Syberia</td>\n",
              "      <td>Sauvignon Blanc</td>\n",
              "      <td>Macauley</td>\n",
              "    </tr>\n",
              "    <tr>\n",
              "      <th>3</th>\n",
              "      <td>US</td>\n",
              "      <td>This spent 20 months in 30% new French oak, an...</td>\n",
              "      <td>Reserve</td>\n",
              "      <td>96</td>\n",
              "      <td>65.0</td>\n",
              "      <td>Oregon</td>\n",
              "      <td>Willamette Valley</td>\n",
              "      <td>Syberia</td>\n",
              "      <td>Pinot Noir</td>\n",
              "      <td>Ponzi</td>\n",
              "    </tr>\n",
              "    <tr>\n",
              "      <th>4</th>\n",
              "      <td>France</td>\n",
              "      <td>This is the top wine from La Bégude, named aft...</td>\n",
              "      <td>La Brûlade</td>\n",
              "      <td>95</td>\n",
              "      <td>66.0</td>\n",
              "      <td>Provence</td>\n",
              "      <td>Bandol</td>\n",
              "      <td>NaN</td>\n",
              "      <td>Provence red blend</td>\n",
              "      <td>Domaine de la Bégude</td>\n",
              "    </tr>\n",
              "  </tbody>\n",
              "</table>\n",
              "</div>"
            ],
            "text/plain": [
              "  country  ...                   winery\n",
              "0      US  ...                    Heitz\n",
              "1   Spain  ...  Bodega Carmen Rodríguez\n",
              "2      US  ...                 Macauley\n",
              "3      US  ...                    Ponzi\n",
              "4  France  ...     Domaine de la Bégude\n",
              "\n",
              "[5 rows x 10 columns]"
            ]
          },
          "metadata": {
            "tags": []
          },
          "execution_count": 135
        }
      ]
    },
    {
      "cell_type": "code",
      "metadata": {
        "id": "JizHrXguhkzC",
        "colab_type": "code",
        "outputId": "16ec66b6-b6db-4d3c-ca65-bf8beee2445d",
        "colab": {
          "base_uri": "https://localhost:8080/",
          "height": 1000
        }
      },
      "source": [
        "data_ = data.groupby(['country', 'points']).count() # Сграппируем данные сначала по странам, а затем по points\n",
        "data_.head(50) # Отобразим первые 50 строк нового датафрейма"
      ],
      "execution_count": 0,
      "outputs": [
        {
          "output_type": "execute_result",
          "data": {
            "text/html": [
              "<div>\n",
              "<style scoped>\n",
              "    .dataframe tbody tr th:only-of-type {\n",
              "        vertical-align: middle;\n",
              "    }\n",
              "\n",
              "    .dataframe tbody tr th {\n",
              "        vertical-align: top;\n",
              "    }\n",
              "\n",
              "    .dataframe thead th {\n",
              "        text-align: right;\n",
              "    }\n",
              "</style>\n",
              "<table border=\"1\" class=\"dataframe\">\n",
              "  <thead>\n",
              "    <tr style=\"text-align: right;\">\n",
              "      <th></th>\n",
              "      <th></th>\n",
              "      <th>description</th>\n",
              "      <th>designation</th>\n",
              "      <th>price</th>\n",
              "      <th>province</th>\n",
              "      <th>region_1</th>\n",
              "      <th>region_2</th>\n",
              "      <th>variety</th>\n",
              "      <th>winery</th>\n",
              "    </tr>\n",
              "    <tr>\n",
              "      <th>country</th>\n",
              "      <th>points</th>\n",
              "      <th></th>\n",
              "      <th></th>\n",
              "      <th></th>\n",
              "      <th></th>\n",
              "      <th></th>\n",
              "      <th></th>\n",
              "      <th></th>\n",
              "      <th></th>\n",
              "    </tr>\n",
              "  </thead>\n",
              "  <tbody>\n",
              "    <tr>\n",
              "      <th>Albania</th>\n",
              "      <th>88</th>\n",
              "      <td>2</td>\n",
              "      <td>0</td>\n",
              "      <td>2</td>\n",
              "      <td>2</td>\n",
              "      <td>0</td>\n",
              "      <td>0</td>\n",
              "      <td>2</td>\n",
              "      <td>2</td>\n",
              "    </tr>\n",
              "    <tr>\n",
              "      <th rowspan=\"18\" valign=\"top\">Argentina</th>\n",
              "      <th>80</th>\n",
              "      <td>153</td>\n",
              "      <td>102</td>\n",
              "      <td>152</td>\n",
              "      <td>153</td>\n",
              "      <td>153</td>\n",
              "      <td>0</td>\n",
              "      <td>153</td>\n",
              "      <td>153</td>\n",
              "    </tr>\n",
              "    <tr>\n",
              "      <th>81</th>\n",
              "      <td>224</td>\n",
              "      <td>139</td>\n",
              "      <td>224</td>\n",
              "      <td>224</td>\n",
              "      <td>224</td>\n",
              "      <td>0</td>\n",
              "      <td>224</td>\n",
              "      <td>224</td>\n",
              "    </tr>\n",
              "    <tr>\n",
              "      <th>82</th>\n",
              "      <td>307</td>\n",
              "      <td>169</td>\n",
              "      <td>300</td>\n",
              "      <td>307</td>\n",
              "      <td>307</td>\n",
              "      <td>0</td>\n",
              "      <td>307</td>\n",
              "      <td>307</td>\n",
              "    </tr>\n",
              "    <tr>\n",
              "      <th>83</th>\n",
              "      <td>595</td>\n",
              "      <td>337</td>\n",
              "      <td>585</td>\n",
              "      <td>595</td>\n",
              "      <td>595</td>\n",
              "      <td>0</td>\n",
              "      <td>595</td>\n",
              "      <td>595</td>\n",
              "    </tr>\n",
              "    <tr>\n",
              "      <th>84</th>\n",
              "      <td>636</td>\n",
              "      <td>380</td>\n",
              "      <td>633</td>\n",
              "      <td>636</td>\n",
              "      <td>636</td>\n",
              "      <td>0</td>\n",
              "      <td>636</td>\n",
              "      <td>636</td>\n",
              "    </tr>\n",
              "    <tr>\n",
              "      <th>85</th>\n",
              "      <td>671</td>\n",
              "      <td>437</td>\n",
              "      <td>665</td>\n",
              "      <td>671</td>\n",
              "      <td>671</td>\n",
              "      <td>0</td>\n",
              "      <td>671</td>\n",
              "      <td>671</td>\n",
              "    </tr>\n",
              "    <tr>\n",
              "      <th>86</th>\n",
              "      <td>678</td>\n",
              "      <td>469</td>\n",
              "      <td>677</td>\n",
              "      <td>678</td>\n",
              "      <td>677</td>\n",
              "      <td>0</td>\n",
              "      <td>678</td>\n",
              "      <td>678</td>\n",
              "    </tr>\n",
              "    <tr>\n",
              "      <th>87</th>\n",
              "      <td>700</td>\n",
              "      <td>502</td>\n",
              "      <td>693</td>\n",
              "      <td>700</td>\n",
              "      <td>700</td>\n",
              "      <td>0</td>\n",
              "      <td>700</td>\n",
              "      <td>700</td>\n",
              "    </tr>\n",
              "    <tr>\n",
              "      <th>88</th>\n",
              "      <td>523</td>\n",
              "      <td>396</td>\n",
              "      <td>519</td>\n",
              "      <td>523</td>\n",
              "      <td>520</td>\n",
              "      <td>0</td>\n",
              "      <td>523</td>\n",
              "      <td>523</td>\n",
              "    </tr>\n",
              "    <tr>\n",
              "      <th>89</th>\n",
              "      <td>348</td>\n",
              "      <td>295</td>\n",
              "      <td>348</td>\n",
              "      <td>348</td>\n",
              "      <td>348</td>\n",
              "      <td>0</td>\n",
              "      <td>348</td>\n",
              "      <td>348</td>\n",
              "    </tr>\n",
              "    <tr>\n",
              "      <th>90</th>\n",
              "      <td>304</td>\n",
              "      <td>250</td>\n",
              "      <td>304</td>\n",
              "      <td>304</td>\n",
              "      <td>304</td>\n",
              "      <td>0</td>\n",
              "      <td>304</td>\n",
              "      <td>304</td>\n",
              "    </tr>\n",
              "    <tr>\n",
              "      <th>91</th>\n",
              "      <td>200</td>\n",
              "      <td>189</td>\n",
              "      <td>199</td>\n",
              "      <td>200</td>\n",
              "      <td>200</td>\n",
              "      <td>0</td>\n",
              "      <td>200</td>\n",
              "      <td>200</td>\n",
              "    </tr>\n",
              "    <tr>\n",
              "      <th>92</th>\n",
              "      <td>163</td>\n",
              "      <td>150</td>\n",
              "      <td>163</td>\n",
              "      <td>163</td>\n",
              "      <td>163</td>\n",
              "      <td>0</td>\n",
              "      <td>163</td>\n",
              "      <td>163</td>\n",
              "    </tr>\n",
              "    <tr>\n",
              "      <th>93</th>\n",
              "      <td>77</td>\n",
              "      <td>72</td>\n",
              "      <td>73</td>\n",
              "      <td>77</td>\n",
              "      <td>77</td>\n",
              "      <td>0</td>\n",
              "      <td>77</td>\n",
              "      <td>77</td>\n",
              "    </tr>\n",
              "    <tr>\n",
              "      <th>94</th>\n",
              "      <td>32</td>\n",
              "      <td>29</td>\n",
              "      <td>32</td>\n",
              "      <td>32</td>\n",
              "      <td>32</td>\n",
              "      <td>0</td>\n",
              "      <td>32</td>\n",
              "      <td>32</td>\n",
              "    </tr>\n",
              "    <tr>\n",
              "      <th>95</th>\n",
              "      <td>10</td>\n",
              "      <td>10</td>\n",
              "      <td>10</td>\n",
              "      <td>10</td>\n",
              "      <td>10</td>\n",
              "      <td>0</td>\n",
              "      <td>10</td>\n",
              "      <td>10</td>\n",
              "    </tr>\n",
              "    <tr>\n",
              "      <th>96</th>\n",
              "      <td>7</td>\n",
              "      <td>7</td>\n",
              "      <td>7</td>\n",
              "      <td>7</td>\n",
              "      <td>7</td>\n",
              "      <td>0</td>\n",
              "      <td>7</td>\n",
              "      <td>7</td>\n",
              "    </tr>\n",
              "    <tr>\n",
              "      <th>97</th>\n",
              "      <td>3</td>\n",
              "      <td>3</td>\n",
              "      <td>3</td>\n",
              "      <td>3</td>\n",
              "      <td>3</td>\n",
              "      <td>0</td>\n",
              "      <td>3</td>\n",
              "      <td>3</td>\n",
              "    </tr>\n",
              "    <tr>\n",
              "      <th rowspan=\"20\" valign=\"top\">Australia</th>\n",
              "      <th>80</th>\n",
              "      <td>9</td>\n",
              "      <td>4</td>\n",
              "      <td>9</td>\n",
              "      <td>9</td>\n",
              "      <td>9</td>\n",
              "      <td>0</td>\n",
              "      <td>9</td>\n",
              "      <td>9</td>\n",
              "    </tr>\n",
              "    <tr>\n",
              "      <th>81</th>\n",
              "      <td>43</td>\n",
              "      <td>22</td>\n",
              "      <td>43</td>\n",
              "      <td>43</td>\n",
              "      <td>43</td>\n",
              "      <td>0</td>\n",
              "      <td>43</td>\n",
              "      <td>43</td>\n",
              "    </tr>\n",
              "    <tr>\n",
              "      <th>82</th>\n",
              "      <td>106</td>\n",
              "      <td>53</td>\n",
              "      <td>106</td>\n",
              "      <td>106</td>\n",
              "      <td>106</td>\n",
              "      <td>0</td>\n",
              "      <td>106</td>\n",
              "      <td>106</td>\n",
              "    </tr>\n",
              "    <tr>\n",
              "      <th>83</th>\n",
              "      <td>182</td>\n",
              "      <td>104</td>\n",
              "      <td>181</td>\n",
              "      <td>182</td>\n",
              "      <td>182</td>\n",
              "      <td>0</td>\n",
              "      <td>182</td>\n",
              "      <td>182</td>\n",
              "    </tr>\n",
              "    <tr>\n",
              "      <th>84</th>\n",
              "      <td>337</td>\n",
              "      <td>185</td>\n",
              "      <td>335</td>\n",
              "      <td>337</td>\n",
              "      <td>337</td>\n",
              "      <td>0</td>\n",
              "      <td>337</td>\n",
              "      <td>337</td>\n",
              "    </tr>\n",
              "    <tr>\n",
              "      <th>85</th>\n",
              "      <td>393</td>\n",
              "      <td>218</td>\n",
              "      <td>387</td>\n",
              "      <td>393</td>\n",
              "      <td>393</td>\n",
              "      <td>0</td>\n",
              "      <td>393</td>\n",
              "      <td>393</td>\n",
              "    </tr>\n",
              "    <tr>\n",
              "      <th>86</th>\n",
              "      <td>537</td>\n",
              "      <td>332</td>\n",
              "      <td>533</td>\n",
              "      <td>537</td>\n",
              "      <td>537</td>\n",
              "      <td>0</td>\n",
              "      <td>537</td>\n",
              "      <td>537</td>\n",
              "    </tr>\n",
              "    <tr>\n",
              "      <th>87</th>\n",
              "      <td>636</td>\n",
              "      <td>377</td>\n",
              "      <td>632</td>\n",
              "      <td>636</td>\n",
              "      <td>636</td>\n",
              "      <td>0</td>\n",
              "      <td>636</td>\n",
              "      <td>636</td>\n",
              "    </tr>\n",
              "    <tr>\n",
              "      <th>88</th>\n",
              "      <td>601</td>\n",
              "      <td>391</td>\n",
              "      <td>589</td>\n",
              "      <td>601</td>\n",
              "      <td>601</td>\n",
              "      <td>0</td>\n",
              "      <td>601</td>\n",
              "      <td>601</td>\n",
              "    </tr>\n",
              "    <tr>\n",
              "      <th>89</th>\n",
              "      <td>594</td>\n",
              "      <td>418</td>\n",
              "      <td>586</td>\n",
              "      <td>594</td>\n",
              "      <td>594</td>\n",
              "      <td>0</td>\n",
              "      <td>594</td>\n",
              "      <td>594</td>\n",
              "    </tr>\n",
              "    <tr>\n",
              "      <th>90</th>\n",
              "      <td>626</td>\n",
              "      <td>460</td>\n",
              "      <td>615</td>\n",
              "      <td>626</td>\n",
              "      <td>626</td>\n",
              "      <td>0</td>\n",
              "      <td>626</td>\n",
              "      <td>626</td>\n",
              "    </tr>\n",
              "    <tr>\n",
              "      <th>91</th>\n",
              "      <td>365</td>\n",
              "      <td>287</td>\n",
              "      <td>358</td>\n",
              "      <td>365</td>\n",
              "      <td>365</td>\n",
              "      <td>0</td>\n",
              "      <td>365</td>\n",
              "      <td>365</td>\n",
              "    </tr>\n",
              "    <tr>\n",
              "      <th>92</th>\n",
              "      <td>259</td>\n",
              "      <td>236</td>\n",
              "      <td>256</td>\n",
              "      <td>259</td>\n",
              "      <td>259</td>\n",
              "      <td>0</td>\n",
              "      <td>259</td>\n",
              "      <td>259</td>\n",
              "    </tr>\n",
              "    <tr>\n",
              "      <th>93</th>\n",
              "      <td>140</td>\n",
              "      <td>133</td>\n",
              "      <td>137</td>\n",
              "      <td>140</td>\n",
              "      <td>140</td>\n",
              "      <td>0</td>\n",
              "      <td>140</td>\n",
              "      <td>140</td>\n",
              "    </tr>\n",
              "    <tr>\n",
              "      <th>94</th>\n",
              "      <td>47</td>\n",
              "      <td>46</td>\n",
              "      <td>45</td>\n",
              "      <td>47</td>\n",
              "      <td>47</td>\n",
              "      <td>0</td>\n",
              "      <td>47</td>\n",
              "      <td>47</td>\n",
              "    </tr>\n",
              "    <tr>\n",
              "      <th>95</th>\n",
              "      <td>40</td>\n",
              "      <td>39</td>\n",
              "      <td>40</td>\n",
              "      <td>40</td>\n",
              "      <td>40</td>\n",
              "      <td>0</td>\n",
              "      <td>40</td>\n",
              "      <td>40</td>\n",
              "    </tr>\n",
              "    <tr>\n",
              "      <th>96</th>\n",
              "      <td>14</td>\n",
              "      <td>14</td>\n",
              "      <td>14</td>\n",
              "      <td>14</td>\n",
              "      <td>14</td>\n",
              "      <td>0</td>\n",
              "      <td>14</td>\n",
              "      <td>14</td>\n",
              "    </tr>\n",
              "    <tr>\n",
              "      <th>97</th>\n",
              "      <td>14</td>\n",
              "      <td>14</td>\n",
              "      <td>14</td>\n",
              "      <td>14</td>\n",
              "      <td>14</td>\n",
              "      <td>0</td>\n",
              "      <td>14</td>\n",
              "      <td>14</td>\n",
              "    </tr>\n",
              "    <tr>\n",
              "      <th>98</th>\n",
              "      <td>11</td>\n",
              "      <td>11</td>\n",
              "      <td>11</td>\n",
              "      <td>11</td>\n",
              "      <td>11</td>\n",
              "      <td>0</td>\n",
              "      <td>11</td>\n",
              "      <td>11</td>\n",
              "    </tr>\n",
              "    <tr>\n",
              "      <th>100</th>\n",
              "      <td>3</td>\n",
              "      <td>3</td>\n",
              "      <td>3</td>\n",
              "      <td>3</td>\n",
              "      <td>3</td>\n",
              "      <td>0</td>\n",
              "      <td>3</td>\n",
              "      <td>3</td>\n",
              "    </tr>\n",
              "    <tr>\n",
              "      <th rowspan=\"11\" valign=\"top\">Austria</th>\n",
              "      <th>81</th>\n",
              "      <td>1</td>\n",
              "      <td>1</td>\n",
              "      <td>1</td>\n",
              "      <td>1</td>\n",
              "      <td>0</td>\n",
              "      <td>0</td>\n",
              "      <td>1</td>\n",
              "      <td>1</td>\n",
              "    </tr>\n",
              "    <tr>\n",
              "      <th>82</th>\n",
              "      <td>14</td>\n",
              "      <td>6</td>\n",
              "      <td>10</td>\n",
              "      <td>14</td>\n",
              "      <td>0</td>\n",
              "      <td>0</td>\n",
              "      <td>14</td>\n",
              "      <td>14</td>\n",
              "    </tr>\n",
              "    <tr>\n",
              "      <th>83</th>\n",
              "      <td>25</td>\n",
              "      <td>19</td>\n",
              "      <td>19</td>\n",
              "      <td>25</td>\n",
              "      <td>0</td>\n",
              "      <td>0</td>\n",
              "      <td>25</td>\n",
              "      <td>25</td>\n",
              "    </tr>\n",
              "    <tr>\n",
              "      <th>84</th>\n",
              "      <td>47</td>\n",
              "      <td>32</td>\n",
              "      <td>41</td>\n",
              "      <td>47</td>\n",
              "      <td>0</td>\n",
              "      <td>0</td>\n",
              "      <td>47</td>\n",
              "      <td>47</td>\n",
              "    </tr>\n",
              "    <tr>\n",
              "      <th>85</th>\n",
              "      <td>125</td>\n",
              "      <td>97</td>\n",
              "      <td>84</td>\n",
              "      <td>125</td>\n",
              "      <td>0</td>\n",
              "      <td>0</td>\n",
              "      <td>125</td>\n",
              "      <td>125</td>\n",
              "    </tr>\n",
              "    <tr>\n",
              "      <th>86</th>\n",
              "      <td>193</td>\n",
              "      <td>142</td>\n",
              "      <td>166</td>\n",
              "      <td>193</td>\n",
              "      <td>0</td>\n",
              "      <td>0</td>\n",
              "      <td>193</td>\n",
              "      <td>193</td>\n",
              "    </tr>\n",
              "    <tr>\n",
              "      <th>87</th>\n",
              "      <td>314</td>\n",
              "      <td>249</td>\n",
              "      <td>287</td>\n",
              "      <td>314</td>\n",
              "      <td>0</td>\n",
              "      <td>0</td>\n",
              "      <td>314</td>\n",
              "      <td>314</td>\n",
              "    </tr>\n",
              "    <tr>\n",
              "      <th>88</th>\n",
              "      <td>446</td>\n",
              "      <td>355</td>\n",
              "      <td>358</td>\n",
              "      <td>446</td>\n",
              "      <td>0</td>\n",
              "      <td>0</td>\n",
              "      <td>446</td>\n",
              "      <td>446</td>\n",
              "    </tr>\n",
              "    <tr>\n",
              "      <th>89</th>\n",
              "      <td>469</td>\n",
              "      <td>413</td>\n",
              "      <td>398</td>\n",
              "      <td>469</td>\n",
              "      <td>0</td>\n",
              "      <td>0</td>\n",
              "      <td>469</td>\n",
              "      <td>469</td>\n",
              "    </tr>\n",
              "    <tr>\n",
              "      <th>90</th>\n",
              "      <td>537</td>\n",
              "      <td>500</td>\n",
              "      <td>451</td>\n",
              "      <td>537</td>\n",
              "      <td>0</td>\n",
              "      <td>0</td>\n",
              "      <td>537</td>\n",
              "      <td>537</td>\n",
              "    </tr>\n",
              "    <tr>\n",
              "      <th>91</th>\n",
              "      <td>306</td>\n",
              "      <td>275</td>\n",
              "      <td>251</td>\n",
              "      <td>306</td>\n",
              "      <td>0</td>\n",
              "      <td>0</td>\n",
              "      <td>306</td>\n",
              "      <td>306</td>\n",
              "    </tr>\n",
              "  </tbody>\n",
              "</table>\n",
              "</div>"
            ],
            "text/plain": [
              "                  description  designation  price  ...  region_2  variety  winery\n",
              "country   points                                   ...                           \n",
              "Albania   88                2            0      2  ...         0        2       2\n",
              "Argentina 80              153          102    152  ...         0      153     153\n",
              "          81              224          139    224  ...         0      224     224\n",
              "          82              307          169    300  ...         0      307     307\n",
              "          83              595          337    585  ...         0      595     595\n",
              "          84              636          380    633  ...         0      636     636\n",
              "          85              671          437    665  ...         0      671     671\n",
              "          86              678          469    677  ...         0      678     678\n",
              "          87              700          502    693  ...         0      700     700\n",
              "          88              523          396    519  ...         0      523     523\n",
              "          89              348          295    348  ...         0      348     348\n",
              "          90              304          250    304  ...         0      304     304\n",
              "          91              200          189    199  ...         0      200     200\n",
              "          92              163          150    163  ...         0      163     163\n",
              "          93               77           72     73  ...         0       77      77\n",
              "          94               32           29     32  ...         0       32      32\n",
              "          95               10           10     10  ...         0       10      10\n",
              "          96                7            7      7  ...         0        7       7\n",
              "          97                3            3      3  ...         0        3       3\n",
              "Australia 80                9            4      9  ...         0        9       9\n",
              "          81               43           22     43  ...         0       43      43\n",
              "          82              106           53    106  ...         0      106     106\n",
              "          83              182          104    181  ...         0      182     182\n",
              "          84              337          185    335  ...         0      337     337\n",
              "          85              393          218    387  ...         0      393     393\n",
              "          86              537          332    533  ...         0      537     537\n",
              "          87              636          377    632  ...         0      636     636\n",
              "          88              601          391    589  ...         0      601     601\n",
              "          89              594          418    586  ...         0      594     594\n",
              "          90              626          460    615  ...         0      626     626\n",
              "          91              365          287    358  ...         0      365     365\n",
              "          92              259          236    256  ...         0      259     259\n",
              "          93              140          133    137  ...         0      140     140\n",
              "          94               47           46     45  ...         0       47      47\n",
              "          95               40           39     40  ...         0       40      40\n",
              "          96               14           14     14  ...         0       14      14\n",
              "          97               14           14     14  ...         0       14      14\n",
              "          98               11           11     11  ...         0       11      11\n",
              "          100               3            3      3  ...         0        3       3\n",
              "Austria   81                1            1      1  ...         0        1       1\n",
              "          82               14            6     10  ...         0       14      14\n",
              "          83               25           19     19  ...         0       25      25\n",
              "          84               47           32     41  ...         0       47      47\n",
              "          85              125           97     84  ...         0      125     125\n",
              "          86              193          142    166  ...         0      193     193\n",
              "          87              314          249    287  ...         0      314     314\n",
              "          88              446          355    358  ...         0      446     446\n",
              "          89              469          413    398  ...         0      469     469\n",
              "          90              537          500    451  ...         0      537     537\n",
              "          91              306          275    251  ...         0      306     306\n",
              "\n",
              "[50 rows x 8 columns]"
            ]
          },
          "metadata": {
            "tags": []
          },
          "execution_count": 109
        }
      ]
    },
    {
      "cell_type": "code",
      "metadata": {
        "id": "hE9aG1imhkzG",
        "colab_type": "code",
        "outputId": "e4167a87-e762-43b2-d7da-8ba2eb3ac0d9",
        "colab": {
          "base_uri": "https://localhost:8080/",
          "height": 698
        }
      },
      "source": [
        "data_.loc['US'] # Отобразим все данные для 'US'"
      ],
      "execution_count": 0,
      "outputs": [
        {
          "output_type": "execute_result",
          "data": {
            "text/html": [
              "<div>\n",
              "<style scoped>\n",
              "    .dataframe tbody tr th:only-of-type {\n",
              "        vertical-align: middle;\n",
              "    }\n",
              "\n",
              "    .dataframe tbody tr th {\n",
              "        vertical-align: top;\n",
              "    }\n",
              "\n",
              "    .dataframe thead th {\n",
              "        text-align: right;\n",
              "    }\n",
              "</style>\n",
              "<table border=\"1\" class=\"dataframe\">\n",
              "  <thead>\n",
              "    <tr style=\"text-align: right;\">\n",
              "      <th></th>\n",
              "      <th>description</th>\n",
              "      <th>designation</th>\n",
              "      <th>price</th>\n",
              "      <th>province</th>\n",
              "      <th>region_1</th>\n",
              "      <th>region_2</th>\n",
              "      <th>variety</th>\n",
              "      <th>winery</th>\n",
              "    </tr>\n",
              "    <tr>\n",
              "      <th>points</th>\n",
              "      <th></th>\n",
              "      <th></th>\n",
              "      <th></th>\n",
              "      <th></th>\n",
              "      <th></th>\n",
              "      <th></th>\n",
              "      <th></th>\n",
              "      <th></th>\n",
              "    </tr>\n",
              "  </thead>\n",
              "  <tbody>\n",
              "    <tr>\n",
              "      <th>80</th>\n",
              "      <td>418</td>\n",
              "      <td>230</td>\n",
              "      <td>415</td>\n",
              "      <td>418</td>\n",
              "      <td>417</td>\n",
              "      <td>400</td>\n",
              "      <td>418</td>\n",
              "      <td>418</td>\n",
              "    </tr>\n",
              "    <tr>\n",
              "      <th>81</th>\n",
              "      <td>688</td>\n",
              "      <td>358</td>\n",
              "      <td>687</td>\n",
              "      <td>688</td>\n",
              "      <td>688</td>\n",
              "      <td>642</td>\n",
              "      <td>688</td>\n",
              "      <td>688</td>\n",
              "    </tr>\n",
              "    <tr>\n",
              "      <th>82</th>\n",
              "      <td>2374</td>\n",
              "      <td>1279</td>\n",
              "      <td>2368</td>\n",
              "      <td>2374</td>\n",
              "      <td>2370</td>\n",
              "      <td>2255</td>\n",
              "      <td>2374</td>\n",
              "      <td>2374</td>\n",
              "    </tr>\n",
              "    <tr>\n",
              "      <th>83</th>\n",
              "      <td>2914</td>\n",
              "      <td>1572</td>\n",
              "      <td>2903</td>\n",
              "      <td>2914</td>\n",
              "      <td>2900</td>\n",
              "      <td>2739</td>\n",
              "      <td>2914</td>\n",
              "      <td>2914</td>\n",
              "    </tr>\n",
              "    <tr>\n",
              "      <th>84</th>\n",
              "      <td>5084</td>\n",
              "      <td>2674</td>\n",
              "      <td>5063</td>\n",
              "      <td>5084</td>\n",
              "      <td>5068</td>\n",
              "      <td>4899</td>\n",
              "      <td>5084</td>\n",
              "      <td>5084</td>\n",
              "    </tr>\n",
              "    <tr>\n",
              "      <th>85</th>\n",
              "      <td>5181</td>\n",
              "      <td>2799</td>\n",
              "      <td>5169</td>\n",
              "      <td>5181</td>\n",
              "      <td>5153</td>\n",
              "      <td>5004</td>\n",
              "      <td>5181</td>\n",
              "      <td>5181</td>\n",
              "    </tr>\n",
              "    <tr>\n",
              "      <th>86</th>\n",
              "      <td>5936</td>\n",
              "      <td>3424</td>\n",
              "      <td>5917</td>\n",
              "      <td>5936</td>\n",
              "      <td>5915</td>\n",
              "      <td>5743</td>\n",
              "      <td>5936</td>\n",
              "      <td>5936</td>\n",
              "    </tr>\n",
              "    <tr>\n",
              "      <th>87</th>\n",
              "      <td>8208</td>\n",
              "      <td>5060</td>\n",
              "      <td>8166</td>\n",
              "      <td>8208</td>\n",
              "      <td>8184</td>\n",
              "      <td>8037</td>\n",
              "      <td>8208</td>\n",
              "      <td>8208</td>\n",
              "    </tr>\n",
              "    <tr>\n",
              "      <th>88</th>\n",
              "      <td>6539</td>\n",
              "      <td>4227</td>\n",
              "      <td>6506</td>\n",
              "      <td>6539</td>\n",
              "      <td>6520</td>\n",
              "      <td>6441</td>\n",
              "      <td>6539</td>\n",
              "      <td>6539</td>\n",
              "    </tr>\n",
              "    <tr>\n",
              "      <th>89</th>\n",
              "      <td>4290</td>\n",
              "      <td>3028</td>\n",
              "      <td>4263</td>\n",
              "      <td>4290</td>\n",
              "      <td>4287</td>\n",
              "      <td>4246</td>\n",
              "      <td>4290</td>\n",
              "      <td>4290</td>\n",
              "    </tr>\n",
              "    <tr>\n",
              "      <th>90</th>\n",
              "      <td>6338</td>\n",
              "      <td>4411</td>\n",
              "      <td>6320</td>\n",
              "      <td>6338</td>\n",
              "      <td>6333</td>\n",
              "      <td>6287</td>\n",
              "      <td>6338</td>\n",
              "      <td>6338</td>\n",
              "    </tr>\n",
              "    <tr>\n",
              "      <th>91</th>\n",
              "      <td>4168</td>\n",
              "      <td>3004</td>\n",
              "      <td>4153</td>\n",
              "      <td>4168</td>\n",
              "      <td>4167</td>\n",
              "      <td>4136</td>\n",
              "      <td>4168</td>\n",
              "      <td>4168</td>\n",
              "    </tr>\n",
              "    <tr>\n",
              "      <th>92</th>\n",
              "      <td>4399</td>\n",
              "      <td>3328</td>\n",
              "      <td>4381</td>\n",
              "      <td>4399</td>\n",
              "      <td>4399</td>\n",
              "      <td>4329</td>\n",
              "      <td>4399</td>\n",
              "      <td>4399</td>\n",
              "    </tr>\n",
              "    <tr>\n",
              "      <th>93</th>\n",
              "      <td>2802</td>\n",
              "      <td>2310</td>\n",
              "      <td>2791</td>\n",
              "      <td>2802</td>\n",
              "      <td>2802</td>\n",
              "      <td>2775</td>\n",
              "      <td>2802</td>\n",
              "      <td>2802</td>\n",
              "    </tr>\n",
              "    <tr>\n",
              "      <th>94</th>\n",
              "      <td>1724</td>\n",
              "      <td>1467</td>\n",
              "      <td>1713</td>\n",
              "      <td>1724</td>\n",
              "      <td>1724</td>\n",
              "      <td>1696</td>\n",
              "      <td>1724</td>\n",
              "      <td>1724</td>\n",
              "    </tr>\n",
              "    <tr>\n",
              "      <th>95</th>\n",
              "      <td>798</td>\n",
              "      <td>716</td>\n",
              "      <td>790</td>\n",
              "      <td>798</td>\n",
              "      <td>798</td>\n",
              "      <td>794</td>\n",
              "      <td>798</td>\n",
              "      <td>798</td>\n",
              "    </tr>\n",
              "    <tr>\n",
              "      <th>96</th>\n",
              "      <td>316</td>\n",
              "      <td>273</td>\n",
              "      <td>315</td>\n",
              "      <td>316</td>\n",
              "      <td>316</td>\n",
              "      <td>311</td>\n",
              "      <td>316</td>\n",
              "      <td>316</td>\n",
              "    </tr>\n",
              "    <tr>\n",
              "      <th>97</th>\n",
              "      <td>144</td>\n",
              "      <td>126</td>\n",
              "      <td>143</td>\n",
              "      <td>144</td>\n",
              "      <td>144</td>\n",
              "      <td>143</td>\n",
              "      <td>144</td>\n",
              "      <td>144</td>\n",
              "    </tr>\n",
              "    <tr>\n",
              "      <th>98</th>\n",
              "      <td>50</td>\n",
              "      <td>38</td>\n",
              "      <td>50</td>\n",
              "      <td>50</td>\n",
              "      <td>50</td>\n",
              "      <td>50</td>\n",
              "      <td>50</td>\n",
              "      <td>50</td>\n",
              "    </tr>\n",
              "    <tr>\n",
              "      <th>99</th>\n",
              "      <td>16</td>\n",
              "      <td>13</td>\n",
              "      <td>16</td>\n",
              "      <td>16</td>\n",
              "      <td>16</td>\n",
              "      <td>16</td>\n",
              "      <td>16</td>\n",
              "      <td>16</td>\n",
              "    </tr>\n",
              "    <tr>\n",
              "      <th>100</th>\n",
              "      <td>10</td>\n",
              "      <td>8</td>\n",
              "      <td>10</td>\n",
              "      <td>10</td>\n",
              "      <td>10</td>\n",
              "      <td>10</td>\n",
              "      <td>10</td>\n",
              "      <td>10</td>\n",
              "    </tr>\n",
              "  </tbody>\n",
              "</table>\n",
              "</div>"
            ],
            "text/plain": [
              "        description  designation  price  ...  region_2  variety  winery\n",
              "points                                   ...                           \n",
              "80              418          230    415  ...       400      418     418\n",
              "81              688          358    687  ...       642      688     688\n",
              "82             2374         1279   2368  ...      2255     2374    2374\n",
              "83             2914         1572   2903  ...      2739     2914    2914\n",
              "84             5084         2674   5063  ...      4899     5084    5084\n",
              "85             5181         2799   5169  ...      5004     5181    5181\n",
              "86             5936         3424   5917  ...      5743     5936    5936\n",
              "87             8208         5060   8166  ...      8037     8208    8208\n",
              "88             6539         4227   6506  ...      6441     6539    6539\n",
              "89             4290         3028   4263  ...      4246     4290    4290\n",
              "90             6338         4411   6320  ...      6287     6338    6338\n",
              "91             4168         3004   4153  ...      4136     4168    4168\n",
              "92             4399         3328   4381  ...      4329     4399    4399\n",
              "93             2802         2310   2791  ...      2775     2802    2802\n",
              "94             1724         1467   1713  ...      1696     1724    1724\n",
              "95              798          716    790  ...       794      798     798\n",
              "96              316          273    315  ...       311      316     316\n",
              "97              144          126    143  ...       143      144     144\n",
              "98               50           38     50  ...        50       50      50\n",
              "99               16           13     16  ...        16       16      16\n",
              "100              10            8     10  ...        10       10      10\n",
              "\n",
              "[21 rows x 8 columns]"
            ]
          },
          "metadata": {
            "tags": []
          },
          "execution_count": 110
        }
      ]
    },
    {
      "cell_type": "code",
      "metadata": {
        "id": "ZteYvkfehkzL",
        "colab_type": "code",
        "outputId": "b1f0949f-01d4-4121-b5dc-0cd77ea32bf8",
        "colab": {
          "base_uri": "https://localhost:8080/",
          "height": 168
        }
      },
      "source": [
        "data_.loc['US', 100] # Отобразим данные для 'US', у кого 100 points"
      ],
      "execution_count": 0,
      "outputs": [
        {
          "output_type": "execute_result",
          "data": {
            "text/plain": [
              "description    10\n",
              "designation     8\n",
              "price          10\n",
              "province       10\n",
              "region_1       10\n",
              "region_2       10\n",
              "variety        10\n",
              "winery         10\n",
              "Name: (US, 100), dtype: int64"
            ]
          },
          "metadata": {
            "tags": []
          },
          "execution_count": 111
        }
      ]
    },
    {
      "cell_type": "markdown",
      "metadata": {
        "id": "6o6JX1OnhkzP",
        "colab_type": "text"
      },
      "source": [
        "#### Как изменять значения в табличке\n",
        "\n",
        "*Разбор данного раздела:* https://youtu.be/VNOMMiFjJ7E?t=4756"
      ]
    },
    {
      "cell_type": "code",
      "metadata": {
        "id": "sVulAc0HsaLu",
        "colab_type": "code",
        "outputId": "12aac15d-f60e-4cdd-d959-74639d2b2b19",
        "colab": {
          "base_uri": "https://localhost:8080/",
          "height": 279
        }
      },
      "source": [
        "data_backup = data.copy() # Создаем копию нашего датафрейма и записываем в переменную data_backup\n",
        "data.head()"
      ],
      "execution_count": 0,
      "outputs": [
        {
          "output_type": "execute_result",
          "data": {
            "text/html": [
              "<div>\n",
              "<style scoped>\n",
              "    .dataframe tbody tr th:only-of-type {\n",
              "        vertical-align: middle;\n",
              "    }\n",
              "\n",
              "    .dataframe tbody tr th {\n",
              "        vertical-align: top;\n",
              "    }\n",
              "\n",
              "    .dataframe thead th {\n",
              "        text-align: right;\n",
              "    }\n",
              "</style>\n",
              "<table border=\"1\" class=\"dataframe\">\n",
              "  <thead>\n",
              "    <tr style=\"text-align: right;\">\n",
              "      <th></th>\n",
              "      <th>country</th>\n",
              "      <th>description</th>\n",
              "      <th>designation</th>\n",
              "      <th>points</th>\n",
              "      <th>price</th>\n",
              "      <th>province</th>\n",
              "      <th>region_1</th>\n",
              "      <th>region_2</th>\n",
              "      <th>variety</th>\n",
              "      <th>winery</th>\n",
              "    </tr>\n",
              "  </thead>\n",
              "  <tbody>\n",
              "    <tr>\n",
              "      <th>0</th>\n",
              "      <td>US</td>\n",
              "      <td>This tremendous 100% varietal wine hails from ...</td>\n",
              "      <td>Martha's Vineyard</td>\n",
              "      <td>96</td>\n",
              "      <td>235.0</td>\n",
              "      <td>California</td>\n",
              "      <td>Napa Valley</td>\n",
              "      <td>Napa</td>\n",
              "      <td>Cabernet Sauvignon</td>\n",
              "      <td>Heitz</td>\n",
              "    </tr>\n",
              "    <tr>\n",
              "      <th>1</th>\n",
              "      <td>Spain</td>\n",
              "      <td>Ripe aromas of fig, blackberry and cassis are ...</td>\n",
              "      <td>Carodorum Selección Especial Reserva</td>\n",
              "      <td>96</td>\n",
              "      <td>110.0</td>\n",
              "      <td>Northern Spain</td>\n",
              "      <td>Toro</td>\n",
              "      <td>NaN</td>\n",
              "      <td>Tinta de Toro</td>\n",
              "      <td>Bodega Carmen Rodríguez</td>\n",
              "    </tr>\n",
              "    <tr>\n",
              "      <th>2</th>\n",
              "      <td>US</td>\n",
              "      <td>Mac Watson honors the memory of a wine once ma...</td>\n",
              "      <td>Special Selected Late Harvest</td>\n",
              "      <td>96</td>\n",
              "      <td>90.0</td>\n",
              "      <td>California</td>\n",
              "      <td>Knights Valley</td>\n",
              "      <td>Sonoma</td>\n",
              "      <td>Sauvignon Blanc</td>\n",
              "      <td>Macauley</td>\n",
              "    </tr>\n",
              "    <tr>\n",
              "      <th>3</th>\n",
              "      <td>US</td>\n",
              "      <td>This spent 20 months in 30% new French oak, an...</td>\n",
              "      <td>Reserve</td>\n",
              "      <td>96</td>\n",
              "      <td>65.0</td>\n",
              "      <td>Oregon</td>\n",
              "      <td>Willamette Valley</td>\n",
              "      <td>Willamette Valley</td>\n",
              "      <td>Pinot Noir</td>\n",
              "      <td>Ponzi</td>\n",
              "    </tr>\n",
              "    <tr>\n",
              "      <th>4</th>\n",
              "      <td>France</td>\n",
              "      <td>This is the top wine from La Bégude, named aft...</td>\n",
              "      <td>La Brûlade</td>\n",
              "      <td>95</td>\n",
              "      <td>66.0</td>\n",
              "      <td>Provence</td>\n",
              "      <td>Bandol</td>\n",
              "      <td>NaN</td>\n",
              "      <td>Provence red blend</td>\n",
              "      <td>Domaine de la Bégude</td>\n",
              "    </tr>\n",
              "  </tbody>\n",
              "</table>\n",
              "</div>"
            ],
            "text/plain": [
              "  country  ...                   winery\n",
              "0      US  ...                    Heitz\n",
              "1   Spain  ...  Bodega Carmen Rodríguez\n",
              "2      US  ...                 Macauley\n",
              "3      US  ...                    Ponzi\n",
              "4  France  ...     Domaine de la Bégude\n",
              "\n",
              "[5 rows x 10 columns]"
            ]
          },
          "metadata": {
            "tags": []
          },
          "execution_count": 114
        }
      ]
    },
    {
      "cell_type": "code",
      "metadata": {
        "id": "eMhSX4jqhkzP",
        "colab_type": "code",
        "outputId": "cba42ac2-55b1-4f73-ebda-a5c2d5d83735",
        "colab": {
          "base_uri": "https://localhost:8080/",
          "height": 418
        }
      },
      "source": [
        "data.iloc[0,1] = 'kotiki' # Вставляем новое значение в 0 строку и 1 стоблец\n",
        "data.iloc[2,2] = '129' # Вставляем новое значение в 2 строку и 2 стоблец\n",
        "data.iloc[3:5,2:5] = 'new' # Вставляем новое значение с 3 по 5 строку и со 2го по 5ый стоблец\n",
        "data.head(8)"
      ],
      "execution_count": 0,
      "outputs": [
        {
          "output_type": "execute_result",
          "data": {
            "text/html": [
              "<div>\n",
              "<style scoped>\n",
              "    .dataframe tbody tr th:only-of-type {\n",
              "        vertical-align: middle;\n",
              "    }\n",
              "\n",
              "    .dataframe tbody tr th {\n",
              "        vertical-align: top;\n",
              "    }\n",
              "\n",
              "    .dataframe thead th {\n",
              "        text-align: right;\n",
              "    }\n",
              "</style>\n",
              "<table border=\"1\" class=\"dataframe\">\n",
              "  <thead>\n",
              "    <tr style=\"text-align: right;\">\n",
              "      <th></th>\n",
              "      <th>country</th>\n",
              "      <th>description</th>\n",
              "      <th>designation</th>\n",
              "      <th>points</th>\n",
              "      <th>price</th>\n",
              "      <th>province</th>\n",
              "      <th>region_1</th>\n",
              "      <th>region_2</th>\n",
              "      <th>variety</th>\n",
              "      <th>winery</th>\n",
              "    </tr>\n",
              "  </thead>\n",
              "  <tbody>\n",
              "    <tr>\n",
              "      <th>0</th>\n",
              "      <td>US</td>\n",
              "      <td>kotiki</td>\n",
              "      <td>Martha's Vineyard</td>\n",
              "      <td>96</td>\n",
              "      <td>235</td>\n",
              "      <td>California</td>\n",
              "      <td>Napa Valley</td>\n",
              "      <td>Napa</td>\n",
              "      <td>Cabernet Sauvignon</td>\n",
              "      <td>Heitz</td>\n",
              "    </tr>\n",
              "    <tr>\n",
              "      <th>1</th>\n",
              "      <td>Spain</td>\n",
              "      <td>Ripe aromas of fig, blackberry and cassis are ...</td>\n",
              "      <td>Carodorum Selección Especial Reserva</td>\n",
              "      <td>96</td>\n",
              "      <td>110</td>\n",
              "      <td>Northern Spain</td>\n",
              "      <td>Toro</td>\n",
              "      <td>NaN</td>\n",
              "      <td>Tinta de Toro</td>\n",
              "      <td>Bodega Carmen Rodríguez</td>\n",
              "    </tr>\n",
              "    <tr>\n",
              "      <th>2</th>\n",
              "      <td>US</td>\n",
              "      <td>Mac Watson honors the memory of a wine once ma...</td>\n",
              "      <td>129</td>\n",
              "      <td>96</td>\n",
              "      <td>90</td>\n",
              "      <td>California</td>\n",
              "      <td>Knights Valley</td>\n",
              "      <td>Sonoma</td>\n",
              "      <td>Sauvignon Blanc</td>\n",
              "      <td>Macauley</td>\n",
              "    </tr>\n",
              "    <tr>\n",
              "      <th>3</th>\n",
              "      <td>US</td>\n",
              "      <td>This spent 20 months in 30% new French oak, an...</td>\n",
              "      <td>new</td>\n",
              "      <td>new</td>\n",
              "      <td>new</td>\n",
              "      <td>Oregon</td>\n",
              "      <td>Willamette Valley</td>\n",
              "      <td>Willamette Valley</td>\n",
              "      <td>Pinot Noir</td>\n",
              "      <td>Ponzi</td>\n",
              "    </tr>\n",
              "    <tr>\n",
              "      <th>4</th>\n",
              "      <td>France</td>\n",
              "      <td>This is the top wine from La Bégude, named aft...</td>\n",
              "      <td>new</td>\n",
              "      <td>new</td>\n",
              "      <td>new</td>\n",
              "      <td>Provence</td>\n",
              "      <td>Bandol</td>\n",
              "      <td>NaN</td>\n",
              "      <td>Provence red blend</td>\n",
              "      <td>Domaine de la Bégude</td>\n",
              "    </tr>\n",
              "    <tr>\n",
              "      <th>5</th>\n",
              "      <td>Spain</td>\n",
              "      <td>Deep, dense and pure from the opening bell, th...</td>\n",
              "      <td>Numanthia</td>\n",
              "      <td>95</td>\n",
              "      <td>73</td>\n",
              "      <td>Northern Spain</td>\n",
              "      <td>Toro</td>\n",
              "      <td>NaN</td>\n",
              "      <td>Tinta de Toro</td>\n",
              "      <td>Numanthia</td>\n",
              "    </tr>\n",
              "    <tr>\n",
              "      <th>6</th>\n",
              "      <td>Spain</td>\n",
              "      <td>Slightly gritty black-fruit aromas include a s...</td>\n",
              "      <td>San Román</td>\n",
              "      <td>95</td>\n",
              "      <td>65</td>\n",
              "      <td>Northern Spain</td>\n",
              "      <td>Toro</td>\n",
              "      <td>NaN</td>\n",
              "      <td>Tinta de Toro</td>\n",
              "      <td>Maurodos</td>\n",
              "    </tr>\n",
              "    <tr>\n",
              "      <th>7</th>\n",
              "      <td>Spain</td>\n",
              "      <td>Lush cedary black-fruit aromas are luxe and of...</td>\n",
              "      <td>Carodorum Único Crianza</td>\n",
              "      <td>95</td>\n",
              "      <td>110</td>\n",
              "      <td>Northern Spain</td>\n",
              "      <td>Toro</td>\n",
              "      <td>NaN</td>\n",
              "      <td>Tinta de Toro</td>\n",
              "      <td>Bodega Carmen Rodríguez</td>\n",
              "    </tr>\n",
              "  </tbody>\n",
              "</table>\n",
              "</div>"
            ],
            "text/plain": [
              "  country  ...                   winery\n",
              "0      US  ...                    Heitz\n",
              "1   Spain  ...  Bodega Carmen Rodríguez\n",
              "2      US  ...                 Macauley\n",
              "3      US  ...                    Ponzi\n",
              "4  France  ...     Domaine de la Bégude\n",
              "5   Spain  ...                Numanthia\n",
              "6   Spain  ...                 Maurodos\n",
              "7   Spain  ...  Bodega Carmen Rodríguez\n",
              "\n",
              "[8 rows x 10 columns]"
            ]
          },
          "metadata": {
            "tags": []
          },
          "execution_count": 115
        }
      ]
    },
    {
      "cell_type": "code",
      "metadata": {
        "id": "RZvBCkMCsiOT",
        "colab_type": "code",
        "colab": {}
      },
      "source": [
        "data = data_backup.copy() # Восстанавливаем данные из копии"
      ],
      "execution_count": 0,
      "outputs": []
    },
    {
      "cell_type": "code",
      "metadata": {
        "id": "qXlU-wqyhkzT",
        "colab_type": "code",
        "outputId": "b07b6288-1894-4789-921b-a21732cd97c7",
        "colab": {
          "base_uri": "https://localhost:8080/",
          "height": 262
        }
      },
      "source": [
        "data.loc[data.country == 'US', 'region_2'] = 'Syberia'\n",
        "data.loc[data.price > 100, 'points'] = 200\n",
        "data.loc[data.price > 100, 'price'] = 1000\n",
        "data.head()"
      ],
      "execution_count": 0,
      "outputs": [
        {
          "output_type": "execute_result",
          "data": {
            "text/html": [
              "<div>\n",
              "<style scoped>\n",
              "    .dataframe tbody tr th:only-of-type {\n",
              "        vertical-align: middle;\n",
              "    }\n",
              "\n",
              "    .dataframe tbody tr th {\n",
              "        vertical-align: top;\n",
              "    }\n",
              "\n",
              "    .dataframe thead th {\n",
              "        text-align: right;\n",
              "    }\n",
              "</style>\n",
              "<table border=\"1\" class=\"dataframe\">\n",
              "  <thead>\n",
              "    <tr style=\"text-align: right;\">\n",
              "      <th></th>\n",
              "      <th>country</th>\n",
              "      <th>description</th>\n",
              "      <th>designation</th>\n",
              "      <th>points</th>\n",
              "      <th>price</th>\n",
              "      <th>province</th>\n",
              "      <th>region_1</th>\n",
              "      <th>region_2</th>\n",
              "      <th>variety</th>\n",
              "      <th>winery</th>\n",
              "    </tr>\n",
              "  </thead>\n",
              "  <tbody>\n",
              "    <tr>\n",
              "      <th>0</th>\n",
              "      <td>US</td>\n",
              "      <td>This tremendous 100% varietal wine hails from ...</td>\n",
              "      <td>Martha's Vineyard</td>\n",
              "      <td>200</td>\n",
              "      <td>1000.0</td>\n",
              "      <td>California</td>\n",
              "      <td>Napa Valley</td>\n",
              "      <td>Syberia</td>\n",
              "      <td>Cabernet Sauvignon</td>\n",
              "      <td>Heitz</td>\n",
              "    </tr>\n",
              "    <tr>\n",
              "      <th>1</th>\n",
              "      <td>Spain</td>\n",
              "      <td>Ripe aromas of fig, blackberry and cassis are ...</td>\n",
              "      <td>Carodorum Selección Especial Reserva</td>\n",
              "      <td>200</td>\n",
              "      <td>1000.0</td>\n",
              "      <td>Northern Spain</td>\n",
              "      <td>Toro</td>\n",
              "      <td>NaN</td>\n",
              "      <td>Tinta de Toro</td>\n",
              "      <td>Bodega Carmen Rodríguez</td>\n",
              "    </tr>\n",
              "    <tr>\n",
              "      <th>2</th>\n",
              "      <td>US</td>\n",
              "      <td>Mac Watson honors the memory of a wine once ma...</td>\n",
              "      <td>Special Selected Late Harvest</td>\n",
              "      <td>96</td>\n",
              "      <td>90.0</td>\n",
              "      <td>California</td>\n",
              "      <td>Knights Valley</td>\n",
              "      <td>Syberia</td>\n",
              "      <td>Sauvignon Blanc</td>\n",
              "      <td>Macauley</td>\n",
              "    </tr>\n",
              "    <tr>\n",
              "      <th>3</th>\n",
              "      <td>US</td>\n",
              "      <td>This spent 20 months in 30% new French oak, an...</td>\n",
              "      <td>Reserve</td>\n",
              "      <td>96</td>\n",
              "      <td>65.0</td>\n",
              "      <td>Oregon</td>\n",
              "      <td>Willamette Valley</td>\n",
              "      <td>Syberia</td>\n",
              "      <td>Pinot Noir</td>\n",
              "      <td>Ponzi</td>\n",
              "    </tr>\n",
              "    <tr>\n",
              "      <th>4</th>\n",
              "      <td>France</td>\n",
              "      <td>This is the top wine from La Bégude, named aft...</td>\n",
              "      <td>La Brûlade</td>\n",
              "      <td>95</td>\n",
              "      <td>66.0</td>\n",
              "      <td>Provence</td>\n",
              "      <td>Bandol</td>\n",
              "      <td>NaN</td>\n",
              "      <td>Provence red blend</td>\n",
              "      <td>Domaine de la Bégude</td>\n",
              "    </tr>\n",
              "  </tbody>\n",
              "</table>\n",
              "</div>"
            ],
            "text/plain": [
              "  country  ...                   winery\n",
              "0      US  ...                    Heitz\n",
              "1   Spain  ...  Bodega Carmen Rodríguez\n",
              "2      US  ...                 Macauley\n",
              "3      US  ...                    Ponzi\n",
              "4  France  ...     Domaine de la Bégude\n",
              "\n",
              "[5 rows x 10 columns]"
            ]
          },
          "metadata": {
            "tags": []
          },
          "execution_count": 117
        }
      ]
    },
    {
      "cell_type": "markdown",
      "metadata": {
        "id": "6PumqSIU7Q7U",
        "colab_type": "text"
      },
      "source": [
        "## Перевод в Numpy\n",
        "\n",
        "*Разбор данного раздела:* https://youtu.be/VNOMMiFjJ7E?t=5081"
      ]
    },
    {
      "cell_type": "code",
      "metadata": {
        "id": "Obs9TzQ9E8ss",
        "colab_type": "code",
        "outputId": "b68fcc27-6a4b-48be-f872-1712a0a90d74",
        "colab": {
          "base_uri": "https://localhost:8080/",
          "height": 50
        }
      },
      "source": [
        "np_data = data.values # Получаем данные из датафрейма и записываем их в переменную np_data\n",
        "print(np_data.shape) # Выводим размерность np_data\n",
        "np_data.dtype"
      ],
      "execution_count": 0,
      "outputs": [
        {
          "output_type": "stream",
          "text": [
            "(150930, 10)\n"
          ],
          "name": "stdout"
        },
        {
          "output_type": "execute_result",
          "data": {
            "text/plain": [
              "dtype('O')"
            ]
          },
          "metadata": {
            "tags": []
          },
          "execution_count": 125
        }
      ]
    },
    {
      "cell_type": "code",
      "metadata": {
        "id": "y1n1cNpdrFqQ",
        "colab_type": "code",
        "outputId": "dffdeff5-da89-4ebd-db70-7a92ef432587",
        "colab": {
          "base_uri": "https://localhost:8080/",
          "height": 54
        }
      },
      "source": [
        "print(np_data[0][1]) # Выводим 0ой элемент из массива"
      ],
      "execution_count": 0,
      "outputs": [
        {
          "output_type": "stream",
          "text": [
            "This tremendous 100% varietal wine hails from Oakville and was aged over three years in oak. Juicy red-cherry fruit and a compelling hint of caramel greet the palate, framed by elegant, fine tannins and a subtle minty tone in the background. Balanced and rewarding from start to finish, it has years ahead of it to develop further nuance. Enjoy 2022–2030.\n"
          ],
          "name": "stdout"
        }
      ]
    },
    {
      "cell_type": "code",
      "metadata": {
        "id": "UsAcU8mBnWwn",
        "colab_type": "code",
        "outputId": "3eb0a516-eb87-483e-b50f-27f85d50704d",
        "colab": {
          "base_uri": "https://localhost:8080/",
          "height": 709
        }
      },
      "source": [
        "# Выведем первые 10 элементов из np_data\n",
        "for i in range(10):\n",
        "  print(np_data[i])"
      ],
      "execution_count": 0,
      "outputs": [
        {
          "output_type": "stream",
          "text": [
            "['US'\n",
            " 'This tremendous 100% varietal wine hails from Oakville and was aged over three years in oak. Juicy red-cherry fruit and a compelling hint of caramel greet the palate, framed by elegant, fine tannins and a subtle minty tone in the background. Balanced and rewarding from start to finish, it has years ahead of it to develop further nuance. Enjoy 2022–2030.'\n",
            " \"Martha's Vineyard\" 200 1000.0 'California' 'Napa Valley' 'Syberia'\n",
            " 'Cabernet Sauvignon' 'Heitz']\n",
            "['Spain'\n",
            " 'Ripe aromas of fig, blackberry and cassis are softened and sweetened by a slathering of oaky chocolate and vanilla. This is full, layered, intense and cushioned on the palate, with rich flavors of chocolaty black fruits and baking spices. A toasty, everlasting finish is heady but ideally balanced. Drink through 2023.'\n",
            " 'Carodorum Selección Especial Reserva' 200 1000.0 'Northern Spain' 'Toro'\n",
            " nan 'Tinta de Toro' 'Bodega Carmen Rodríguez']\n",
            "['US'\n",
            " 'Mac Watson honors the memory of a wine once made by his mother in this tremendously delicious, balanced and complex botrytised white. Dark gold in color, it layers toasted hazelnut, pear compote and orange peel flavors, reveling in the succulence of its 122 g/L of residual sugar.'\n",
            " 'Special Selected Late Harvest' 96 90.0 'California' 'Knights Valley'\n",
            " 'Syberia' 'Sauvignon Blanc' 'Macauley']\n",
            "['US'\n",
            " \"This spent 20 months in 30% new French oak, and incorporates fruit from Ponzi's Aurora, Abetina and Madrona vineyards, among others. Aromatic, dense and toasty, it deftly blends aromas and flavors of toast, cigar box, blackberry, black cherry, coffee and graphite. Tannins are polished to a fine sheen, and frame a finish loaded with dark chocolate and espresso. Drink now through 2032.\"\n",
            " 'Reserve' 96 65.0 'Oregon' 'Willamette Valley' 'Syberia' 'Pinot Noir'\n",
            " 'Ponzi']\n",
            "['France'\n",
            " 'This is the top wine from La Bégude, named after the highest point in the vineyard at 1200 feet. It has structure, density and considerable acidity that is still calming down. With 18 months in wood, the wine has developing an extra richness and concentration. Produced by the Tari family, formerly of Château Giscours in Margaux, it is a wine made for aging. Drink from 2020.'\n",
            " 'La Brûlade' 95 66.0 'Provence' 'Bandol' nan 'Provence red blend'\n",
            " 'Domaine de la Bégude']\n",
            "['Spain'\n",
            " 'Deep, dense and pure from the opening bell, this Toro is a winner. Aromas of dark ripe black fruits are cool and moderately oaked. This feels massive on the palate but sensationally balanced. Flavors of blackberry, coffee, mocha and toasty oak finish spicy, smooth and heady. Drink this exemplary Toro through 2023.'\n",
            " 'Numanthia' 95 73.0 'Northern Spain' 'Toro' nan 'Tinta de Toro'\n",
            " 'Numanthia']\n",
            "['Spain'\n",
            " \"Slightly gritty black-fruit aromas include a sweet note of pastry along with a hint of prune. Wall-to-wall saturation ensures that all corners of one's mouth are covered. Flavors of blackberry, mocha and chocolate are highly impressive and expressive, while this settles nicely on a long finish. Drink now through 2024.\"\n",
            " 'San Román' 95 65.0 'Northern Spain' 'Toro' nan 'Tinta de Toro'\n",
            " 'Maurodos']\n",
            "['Spain'\n",
            " 'Lush cedary black-fruit aromas are luxe and offer notes of marzipan and vanilla. This bruiser is massive and tannic on the palate, but still lush and friendly. Chocolate is a key flavor, while baked berry and cassis flavors are hardly wallflowers. On the finish, this is tannic and deep as a sea trench. Drink this saturated black-colored Toro through 2023.'\n",
            " 'Carodorum Único Crianza' 200 1000.0 'Northern Spain' 'Toro' nan\n",
            " 'Tinta de Toro' 'Bodega Carmen Rodríguez']\n",
            "['US'\n",
            " \"This re-named vineyard was formerly bottled as deLancellotti. You'll find striking minerality underscoring chunky black fruits. Accents of citrus and graphite comingle, with exceptional midpalate concentration. This is a wine to cellar, though it is already quite enjoyable. Drink now through 2030.\"\n",
            " 'Silice' 95 65.0 'Oregon' 'Chehalem Mountains' 'Syberia' 'Pinot Noir'\n",
            " 'Bergström']\n",
            "['US'\n",
            " 'The producer sources from two blocks of the vineyard for this wine—one at a high elevation, which contributes bright acidity. Crunchy cranberry, pomegranate and orange peel flavors surround silky, succulent layers of texture that present as fleshy fruit. That delicately lush flavor has considerable length.'\n",
            " \"Gap's Crown Vineyard\" 95 60.0 'California' 'Sonoma Coast' 'Syberia'\n",
            " 'Pinot Noir' 'Blue Farm']\n"
          ],
          "name": "stdout"
        }
      ]
    },
    {
      "cell_type": "markdown",
      "metadata": {
        "id": "8F6G2AUnKFCA",
        "colab_type": "text"
      },
      "source": [
        "# **Глоссарий**\n",
        "\n",
        "\n",
        "pd.DataFrame(данные, columns = [колонки, если есть], index = [индексы ,если есть]) - создать датафрейм\n",
        "\n",
        "pd.read_csv(полный адрес расположения файла) - открыть .csv файл\n",
        "\n",
        "------------\n",
        "\n",
        ".head() - посмотреть верхушку датафрейма (первые n строк)\n",
        "\n",
        ".tail() - посмотреть конец датафрейма (последние n строк)\n",
        "\n",
        ".columns - список колонок датафрейма\n",
        "\n",
        ".values - вывести массив всех значений датафрейма\n",
        "\n",
        ".index - список индексов датафрейма\n",
        "\n",
        ".tolist() - перевести в список\n",
        "\n",
        ".count() - посчитать количество определенных величин во фрейме\n",
        "\n",
        ".describe() - посмотреть основные статистические характеристики фрейма\n",
        "\n",
        ".shape - форма фрейма (строки, колонки)\n",
        "\n",
        ".size - размер фрейма строки*колонки\n",
        "\n",
        ".info() - информация о данных каждой колонки\n",
        "\n",
        ".dtypes - тип данных каждой колонки\n",
        "\n",
        ".isnull() - где недостает значений\n",
        "\n",
        ".isna()- есть ли значения None\n",
        "\n",
        ".dropna() - выкинуть строки/колонки с None\n",
        "\n",
        ".fillna() - заполнить заданным значеним ячейки, где есть None\n",
        "\n",
        ".loc[] - вывести значения по названиям колонок\n",
        "\n",
        ".iloc[] - вывести значения по индексам колонок\n",
        "\n",
        ".drop() - выкинуть определенные значения\n",
        "\n",
        "--------------\n",
        "\n",
        "pd.to_datetime(колонка, которую переводим в формат временного ряда)\n",
        "\n",
        ".groupby() - сгруппировать по конкретному признаку\n",
        "\n",
        ".copy() - создать копию\n",
        "\n",
        ".sort_values() - сортировка значений\n",
        "\n",
        "pd.concat([df1,df2]) - конкатенация фреймов\n",
        "\n",
        ".merge(второй_датафрейм, on = 'общая колонка, по которой склеиваем', how = 'с какой стороны') - конкатенация фреймов через общий признак\n",
        "\n",
        "-------------\n",
        "\n",
        "\n",
        ".corr() - вычислить корреляцию\n",
        "\n",
        ".median() - вычислить медиану\n",
        "\n",
        ".cumsum() - вычислить куммулятивную сумму\n",
        "\n",
        ".cumprod() - вычислить коммулятивное произведение\n",
        "\n",
        ".cummax() - вычислить коммулятивный максимум\n",
        "\n",
        "-------------\n",
        "\n",
        ".quantile([]) - вычислить квантили\n",
        "\n",
        ".nunique() - уникальные значения для n-колонок/строк\n",
        "\n",
        ".unique() - уникальные значения определенной колонки/строк\n",
        "\n",
        "------------\n",
        "\n",
        ".apply(функция) - применить функцию для колонки/строки\n",
        "\n",
        ".agg(набор_функций) - применить ряд функций для колонки/строки\n"
      ]
    }
  ]
}